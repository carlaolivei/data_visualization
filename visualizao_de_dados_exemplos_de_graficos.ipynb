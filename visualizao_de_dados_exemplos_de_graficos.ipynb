{
  "nbformat": 4,
  "nbformat_minor": 0,
  "metadata": {
    "colab": {
      "name": "visualizao_de_dados_exemplos_de_graficos.ipynb",
      "provenance": [],
      "collapsed_sections": [],
      "include_colab_link": true
    },
    "kernelspec": {
      "name": "python3",
      "display_name": "Python 3"
    },
    "language_info": {
      "name": "python"
    }
  },
  "cells": [
    {
      "cell_type": "markdown",
      "metadata": {
        "id": "view-in-github",
        "colab_type": "text"
      },
      "source": [
        "<a href=\"https://colab.research.google.com/github/carlaolivei/data_visualization/blob/main/visualizao_de_dados_exemplos_de_graficos.ipynb\" target=\"_parent\"><img src=\"https://colab.research.google.com/assets/colab-badge.svg\" alt=\"Open In Colab\"/></a>"
      ]
    },
    {
      "cell_type": "markdown",
      "metadata": {
        "id": "IAIZX6iTPr74"
      },
      "source": [
        "<h1>Visualização de Dados - Principais Gráficos</h1>\n",
        "\n",
        "* **Gráfico de Linha** (line)\n",
        "* **Gráfico de Área** (área)\n",
        "* **Gráfico de Barra Vertical** (bar)\n",
        "* **Gráfico de Barra Horizontal** (barh)\n",
        "* **Gráfico de Pizza** (pie)\n",
        "* **Histograma** (hist)\n",
        "* **Boxplot** (box)\n",
        "* **Gráfico de Dispersão** (scatter)\n"
      ]
    },
    {
      "cell_type": "markdown",
      "metadata": {
        "id": "cUUqlgVBP2Se"
      },
      "source": [
        "<h2>Importação das Bibliotecas</h2>"
      ]
    },
    {
      "cell_type": "code",
      "metadata": {
        "id": "LGrpTko2gZWc"
      },
      "source": [
        "import numpy as np \n",
        "import pandas as pd \n",
        "import matplotlib\n",
        "import matplotlib as mpl\n",
        "import matplotlib.pyplot as plt\n",
        "%matplotlib inline "
      ],
      "execution_count": 1,
      "outputs": []
    },
    {
      "cell_type": "markdown",
      "metadata": {
        "id": "clouXmQ7QDUr"
      },
      "source": [
        "<h2>Upload do Dataset</h2>"
      ]
    },
    {
      "cell_type": "code",
      "metadata": {
        "colab": {
          "resources": {
            "http://localhost:8080/nbextensions/google.colab/files.js": {
              "data": "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",
              "ok": true,
              "headers": [
                [
                  "content-type",
                  "application/javascript"
                ]
              ],
              "status": 200,
              "status_text": ""
            }
          },
          "base_uri": "https://localhost:8080/",
          "height": 91
        },
        "id": "YacRfeXLduy9",
        "outputId": "af7adf88-b923-4bfa-a28c-62b4893360c8"
      },
      "source": [
        "from google.colab import files\n",
        "uploaded = files.upload()\n",
        "print ('Upload concluído com suceoo!')"
      ],
      "execution_count": 2,
      "outputs": [
        {
          "output_type": "display_data",
          "data": {
            "text/html": [
              "\n",
              "     <input type=\"file\" id=\"files-b84e17e1-5d51-40c0-8944-075679790f58\" name=\"files[]\" multiple disabled\n",
              "        style=\"border:none\" />\n",
              "     <output id=\"result-b84e17e1-5d51-40c0-8944-075679790f58\">\n",
              "      Upload widget is only available when the cell has been executed in the\n",
              "      current browser session. Please rerun this cell to enable.\n",
              "      </output>\n",
              "      <script src=\"/nbextensions/google.colab/files.js\"></script> "
            ],
            "text/plain": [
              "<IPython.core.display.HTML object>"
            ]
          },
          "metadata": {}
        },
        {
          "output_type": "stream",
          "name": "stdout",
          "text": [
            "Saving Aula 10 - Canada.xlsx to Aula 10 - Canada.xlsx\n",
            "Upload concluído com suceoo!\n"
          ]
        }
      ]
    },
    {
      "cell_type": "markdown",
      "metadata": {
        "id": "e4uVxabJQauh"
      },
      "source": [
        "<h2>Criação do Dataframe Pandas</h2>"
      ]
    },
    {
      "cell_type": "code",
      "metadata": {
        "colab": {
          "base_uri": "https://localhost:8080/"
        },
        "id": "bPrRVc2Dgk7q",
        "outputId": "8b44ff46-4527-4f9c-9a7a-452b4d673cad"
      },
      "source": [
        "# O dataset está no formata Excel (xlsx)\n",
        "df_canada = pd.read_excel('Aula 10 - Canada.xlsx',\n",
        "                       sheet_name='Canada by Citizenship',\n",
        "                       skiprows=range(20),\n",
        "                       skipfooter=2)\n",
        "\n",
        "print ('Dados lidos em um dataframe do Pandas com sucesso!')"
      ],
      "execution_count": 3,
      "outputs": [
        {
          "output_type": "stream",
          "name": "stdout",
          "text": [
            "Dados lidos em um dataframe do Pandas com sucesso!\n"
          ]
        }
      ]
    },
    {
      "cell_type": "markdown",
      "metadata": {
        "id": "8CQZYe6NQxXR"
      },
      "source": [
        "<h3>Sobre o Dataset</h3>\n",
        "\n",
        "O conjunto de dados contém dados anuais sobre imigrantes de 45 países registrados no Canadá.\n",
        "\n",
        "[Fonte do Dataset](http://www.un.org/en/development/desa/population/migration/data/empirical2/migrationflows.shtml)."
      ]
    },
    {
      "cell_type": "markdown",
      "metadata": {
        "id": "YYHqL9mfUao6"
      },
      "source": [
        "<h2>Análise Exploratória dos Dados</h2>"
      ]
    },
    {
      "cell_type": "code",
      "metadata": {
        "colab": {
          "base_uri": "https://localhost:8080/",
          "height": 313
        },
        "id": "jx0-K_3bgqAX",
        "outputId": "41d9ddb4-9aa1-45eb-ba5d-893c5d60f26a"
      },
      "source": [
        "# Leitura das 5 primeiras linhas\n",
        "df_canada.head()"
      ],
      "execution_count": 4,
      "outputs": [
        {
          "output_type": "execute_result",
          "data": {
            "text/html": [
              "<div>\n",
              "<style scoped>\n",
              "    .dataframe tbody tr th:only-of-type {\n",
              "        vertical-align: middle;\n",
              "    }\n",
              "\n",
              "    .dataframe tbody tr th {\n",
              "        vertical-align: top;\n",
              "    }\n",
              "\n",
              "    .dataframe thead th {\n",
              "        text-align: right;\n",
              "    }\n",
              "</style>\n",
              "<table border=\"1\" class=\"dataframe\">\n",
              "  <thead>\n",
              "    <tr style=\"text-align: right;\">\n",
              "      <th></th>\n",
              "      <th>Type</th>\n",
              "      <th>Coverage</th>\n",
              "      <th>OdName</th>\n",
              "      <th>AREA</th>\n",
              "      <th>AreaName</th>\n",
              "      <th>REG</th>\n",
              "      <th>RegName</th>\n",
              "      <th>DEV</th>\n",
              "      <th>DevName</th>\n",
              "      <th>1980</th>\n",
              "      <th>1981</th>\n",
              "      <th>1982</th>\n",
              "      <th>1983</th>\n",
              "      <th>1984</th>\n",
              "      <th>1985</th>\n",
              "      <th>1986</th>\n",
              "      <th>1987</th>\n",
              "      <th>1988</th>\n",
              "      <th>1989</th>\n",
              "      <th>1990</th>\n",
              "      <th>1991</th>\n",
              "      <th>1992</th>\n",
              "      <th>1993</th>\n",
              "      <th>1994</th>\n",
              "      <th>1995</th>\n",
              "      <th>1996</th>\n",
              "      <th>1997</th>\n",
              "      <th>1998</th>\n",
              "      <th>1999</th>\n",
              "      <th>2000</th>\n",
              "      <th>2001</th>\n",
              "      <th>2002</th>\n",
              "      <th>2003</th>\n",
              "      <th>2004</th>\n",
              "      <th>2005</th>\n",
              "      <th>2006</th>\n",
              "      <th>2007</th>\n",
              "      <th>2008</th>\n",
              "      <th>2009</th>\n",
              "      <th>2010</th>\n",
              "      <th>2011</th>\n",
              "      <th>2012</th>\n",
              "      <th>2013</th>\n",
              "    </tr>\n",
              "  </thead>\n",
              "  <tbody>\n",
              "    <tr>\n",
              "      <th>0</th>\n",
              "      <td>Immigrants</td>\n",
              "      <td>Foreigners</td>\n",
              "      <td>Afghanistan</td>\n",
              "      <td>935</td>\n",
              "      <td>Asia</td>\n",
              "      <td>5501</td>\n",
              "      <td>Southern Asia</td>\n",
              "      <td>902</td>\n",
              "      <td>Developing regions</td>\n",
              "      <td>16</td>\n",
              "      <td>39</td>\n",
              "      <td>39</td>\n",
              "      <td>47</td>\n",
              "      <td>71</td>\n",
              "      <td>340</td>\n",
              "      <td>496</td>\n",
              "      <td>741</td>\n",
              "      <td>828</td>\n",
              "      <td>1076</td>\n",
              "      <td>1028</td>\n",
              "      <td>1378</td>\n",
              "      <td>1170</td>\n",
              "      <td>713</td>\n",
              "      <td>858</td>\n",
              "      <td>1537</td>\n",
              "      <td>2212</td>\n",
              "      <td>2555</td>\n",
              "      <td>1999</td>\n",
              "      <td>2395</td>\n",
              "      <td>3326</td>\n",
              "      <td>4067</td>\n",
              "      <td>3697</td>\n",
              "      <td>3479</td>\n",
              "      <td>2978</td>\n",
              "      <td>3436</td>\n",
              "      <td>3009</td>\n",
              "      <td>2652</td>\n",
              "      <td>2111</td>\n",
              "      <td>1746</td>\n",
              "      <td>1758</td>\n",
              "      <td>2203</td>\n",
              "      <td>2635</td>\n",
              "      <td>2004</td>\n",
              "    </tr>\n",
              "    <tr>\n",
              "      <th>1</th>\n",
              "      <td>Immigrants</td>\n",
              "      <td>Foreigners</td>\n",
              "      <td>Albania</td>\n",
              "      <td>908</td>\n",
              "      <td>Europe</td>\n",
              "      <td>925</td>\n",
              "      <td>Southern Europe</td>\n",
              "      <td>901</td>\n",
              "      <td>Developed regions</td>\n",
              "      <td>1</td>\n",
              "      <td>0</td>\n",
              "      <td>0</td>\n",
              "      <td>0</td>\n",
              "      <td>0</td>\n",
              "      <td>0</td>\n",
              "      <td>1</td>\n",
              "      <td>2</td>\n",
              "      <td>2</td>\n",
              "      <td>3</td>\n",
              "      <td>3</td>\n",
              "      <td>21</td>\n",
              "      <td>56</td>\n",
              "      <td>96</td>\n",
              "      <td>71</td>\n",
              "      <td>63</td>\n",
              "      <td>113</td>\n",
              "      <td>307</td>\n",
              "      <td>574</td>\n",
              "      <td>1264</td>\n",
              "      <td>1816</td>\n",
              "      <td>1602</td>\n",
              "      <td>1021</td>\n",
              "      <td>853</td>\n",
              "      <td>1450</td>\n",
              "      <td>1223</td>\n",
              "      <td>856</td>\n",
              "      <td>702</td>\n",
              "      <td>560</td>\n",
              "      <td>716</td>\n",
              "      <td>561</td>\n",
              "      <td>539</td>\n",
              "      <td>620</td>\n",
              "      <td>603</td>\n",
              "    </tr>\n",
              "    <tr>\n",
              "      <th>2</th>\n",
              "      <td>Immigrants</td>\n",
              "      <td>Foreigners</td>\n",
              "      <td>Algeria</td>\n",
              "      <td>903</td>\n",
              "      <td>Africa</td>\n",
              "      <td>912</td>\n",
              "      <td>Northern Africa</td>\n",
              "      <td>902</td>\n",
              "      <td>Developing regions</td>\n",
              "      <td>80</td>\n",
              "      <td>67</td>\n",
              "      <td>71</td>\n",
              "      <td>69</td>\n",
              "      <td>63</td>\n",
              "      <td>44</td>\n",
              "      <td>69</td>\n",
              "      <td>132</td>\n",
              "      <td>242</td>\n",
              "      <td>434</td>\n",
              "      <td>491</td>\n",
              "      <td>872</td>\n",
              "      <td>795</td>\n",
              "      <td>717</td>\n",
              "      <td>595</td>\n",
              "      <td>1106</td>\n",
              "      <td>2054</td>\n",
              "      <td>1842</td>\n",
              "      <td>2292</td>\n",
              "      <td>2389</td>\n",
              "      <td>2867</td>\n",
              "      <td>3418</td>\n",
              "      <td>3406</td>\n",
              "      <td>3072</td>\n",
              "      <td>3616</td>\n",
              "      <td>3626</td>\n",
              "      <td>4807</td>\n",
              "      <td>3623</td>\n",
              "      <td>4005</td>\n",
              "      <td>5393</td>\n",
              "      <td>4752</td>\n",
              "      <td>4325</td>\n",
              "      <td>3774</td>\n",
              "      <td>4331</td>\n",
              "    </tr>\n",
              "    <tr>\n",
              "      <th>3</th>\n",
              "      <td>Immigrants</td>\n",
              "      <td>Foreigners</td>\n",
              "      <td>American Samoa</td>\n",
              "      <td>909</td>\n",
              "      <td>Oceania</td>\n",
              "      <td>957</td>\n",
              "      <td>Polynesia</td>\n",
              "      <td>902</td>\n",
              "      <td>Developing regions</td>\n",
              "      <td>0</td>\n",
              "      <td>1</td>\n",
              "      <td>0</td>\n",
              "      <td>0</td>\n",
              "      <td>0</td>\n",
              "      <td>0</td>\n",
              "      <td>0</td>\n",
              "      <td>1</td>\n",
              "      <td>0</td>\n",
              "      <td>1</td>\n",
              "      <td>2</td>\n",
              "      <td>0</td>\n",
              "      <td>0</td>\n",
              "      <td>0</td>\n",
              "      <td>0</td>\n",
              "      <td>0</td>\n",
              "      <td>0</td>\n",
              "      <td>0</td>\n",
              "      <td>0</td>\n",
              "      <td>0</td>\n",
              "      <td>0</td>\n",
              "      <td>0</td>\n",
              "      <td>0</td>\n",
              "      <td>0</td>\n",
              "      <td>0</td>\n",
              "      <td>0</td>\n",
              "      <td>1</td>\n",
              "      <td>0</td>\n",
              "      <td>0</td>\n",
              "      <td>0</td>\n",
              "      <td>0</td>\n",
              "      <td>0</td>\n",
              "      <td>0</td>\n",
              "      <td>0</td>\n",
              "    </tr>\n",
              "    <tr>\n",
              "      <th>4</th>\n",
              "      <td>Immigrants</td>\n",
              "      <td>Foreigners</td>\n",
              "      <td>Andorra</td>\n",
              "      <td>908</td>\n",
              "      <td>Europe</td>\n",
              "      <td>925</td>\n",
              "      <td>Southern Europe</td>\n",
              "      <td>901</td>\n",
              "      <td>Developed regions</td>\n",
              "      <td>0</td>\n",
              "      <td>0</td>\n",
              "      <td>0</td>\n",
              "      <td>0</td>\n",
              "      <td>0</td>\n",
              "      <td>0</td>\n",
              "      <td>2</td>\n",
              "      <td>0</td>\n",
              "      <td>0</td>\n",
              "      <td>0</td>\n",
              "      <td>3</td>\n",
              "      <td>0</td>\n",
              "      <td>1</td>\n",
              "      <td>0</td>\n",
              "      <td>0</td>\n",
              "      <td>0</td>\n",
              "      <td>0</td>\n",
              "      <td>0</td>\n",
              "      <td>2</td>\n",
              "      <td>0</td>\n",
              "      <td>0</td>\n",
              "      <td>1</td>\n",
              "      <td>0</td>\n",
              "      <td>2</td>\n",
              "      <td>0</td>\n",
              "      <td>0</td>\n",
              "      <td>1</td>\n",
              "      <td>1</td>\n",
              "      <td>0</td>\n",
              "      <td>0</td>\n",
              "      <td>0</td>\n",
              "      <td>0</td>\n",
              "      <td>1</td>\n",
              "      <td>1</td>\n",
              "    </tr>\n",
              "  </tbody>\n",
              "</table>\n",
              "</div>"
            ],
            "text/plain": [
              "         Type    Coverage          OdName  AREA  ...  2010  2011  2012  2013\n",
              "0  Immigrants  Foreigners     Afghanistan   935  ...  1758  2203  2635  2004\n",
              "1  Immigrants  Foreigners         Albania   908  ...   561   539   620   603\n",
              "2  Immigrants  Foreigners         Algeria   903  ...  4752  4325  3774  4331\n",
              "3  Immigrants  Foreigners  American Samoa   909  ...     0     0     0     0\n",
              "4  Immigrants  Foreigners         Andorra   908  ...     0     0     1     1\n",
              "\n",
              "[5 rows x 43 columns]"
            ]
          },
          "metadata": {},
          "execution_count": 4
        }
      ]
    },
    {
      "cell_type": "code",
      "metadata": {
        "colab": {
          "base_uri": "https://localhost:8080/"
        },
        "id": "ujvlvMOHgxMf",
        "outputId": "ac43373f-a7e2-48a0-cadd-10cf6223f3b8"
      },
      "source": [
        "# Visualização dos nomes das colunas do dataset\n",
        "df_canada.columns.values "
      ],
      "execution_count": 5,
      "outputs": [
        {
          "output_type": "execute_result",
          "data": {
            "text/plain": [
              "array(['Type', 'Coverage', 'OdName', 'AREA', 'AreaName', 'REG', 'RegName',\n",
              "       'DEV', 'DevName', 1980, 1981, 1982, 1983, 1984, 1985, 1986, 1987,\n",
              "       1988, 1989, 1990, 1991, 1992, 1993, 1994, 1995, 1996, 1997, 1998,\n",
              "       1999, 2000, 2001, 2002, 2003, 2004, 2005, 2006, 2007, 2008, 2009,\n",
              "       2010, 2011, 2012, 2013], dtype=object)"
            ]
          },
          "metadata": {},
          "execution_count": 5
        }
      ]
    },
    {
      "cell_type": "code",
      "metadata": {
        "colab": {
          "base_uri": "https://localhost:8080/"
        },
        "id": "2YPzpXJkgtDj",
        "outputId": "2a8a2cd6-7dc9-479d-9add-b5e517c672bb"
      },
      "source": [
        "# Informações sobre os tipos dos dados\n",
        "df_canada.info()"
      ],
      "execution_count": 6,
      "outputs": [
        {
          "output_type": "stream",
          "name": "stdout",
          "text": [
            "<class 'pandas.core.frame.DataFrame'>\n",
            "RangeIndex: 195 entries, 0 to 194\n",
            "Data columns (total 43 columns):\n",
            " #   Column    Non-Null Count  Dtype \n",
            "---  ------    --------------  ----- \n",
            " 0   Type      195 non-null    object\n",
            " 1   Coverage  195 non-null    object\n",
            " 2   OdName    195 non-null    object\n",
            " 3   AREA      195 non-null    int64 \n",
            " 4   AreaName  195 non-null    object\n",
            " 5   REG       195 non-null    int64 \n",
            " 6   RegName   195 non-null    object\n",
            " 7   DEV       195 non-null    int64 \n",
            " 8   DevName   195 non-null    object\n",
            " 9   1980      195 non-null    int64 \n",
            " 10  1981      195 non-null    int64 \n",
            " 11  1982      195 non-null    int64 \n",
            " 12  1983      195 non-null    int64 \n",
            " 13  1984      195 non-null    int64 \n",
            " 14  1985      195 non-null    int64 \n",
            " 15  1986      195 non-null    int64 \n",
            " 16  1987      195 non-null    int64 \n",
            " 17  1988      195 non-null    int64 \n",
            " 18  1989      195 non-null    int64 \n",
            " 19  1990      195 non-null    int64 \n",
            " 20  1991      195 non-null    int64 \n",
            " 21  1992      195 non-null    int64 \n",
            " 22  1993      195 non-null    int64 \n",
            " 23  1994      195 non-null    int64 \n",
            " 24  1995      195 non-null    int64 \n",
            " 25  1996      195 non-null    int64 \n",
            " 26  1997      195 non-null    int64 \n",
            " 27  1998      195 non-null    int64 \n",
            " 28  1999      195 non-null    int64 \n",
            " 29  2000      195 non-null    int64 \n",
            " 30  2001      195 non-null    int64 \n",
            " 31  2002      195 non-null    int64 \n",
            " 32  2003      195 non-null    int64 \n",
            " 33  2004      195 non-null    int64 \n",
            " 34  2005      195 non-null    int64 \n",
            " 35  2006      195 non-null    int64 \n",
            " 36  2007      195 non-null    int64 \n",
            " 37  2008      195 non-null    int64 \n",
            " 38  2009      195 non-null    int64 \n",
            " 39  2010      195 non-null    int64 \n",
            " 40  2011      195 non-null    int64 \n",
            " 41  2012      195 non-null    int64 \n",
            " 42  2013      195 non-null    int64 \n",
            "dtypes: int64(37), object(6)\n",
            "memory usage: 65.6+ KB\n"
          ]
        }
      ]
    },
    {
      "cell_type": "code",
      "metadata": {
        "colab": {
          "base_uri": "https://localhost:8080/"
        },
        "id": "kguvjIRZUUoN",
        "outputId": "3357fd8a-1459-4d83-f721-64c9421d1995"
      },
      "source": [
        "# Visualização dos países contidos no dataset\n",
        "df_canada[\"OdName\"].unique()"
      ],
      "execution_count": 7,
      "outputs": [
        {
          "output_type": "execute_result",
          "data": {
            "text/plain": [
              "array(['Afghanistan', 'Albania', 'Algeria', 'American Samoa', 'Andorra',\n",
              "       'Angola', 'Antigua and Barbuda', 'Argentina', 'Armenia',\n",
              "       'Australia', 'Austria', 'Azerbaijan', 'Bahamas', 'Bahrain',\n",
              "       'Bangladesh', 'Barbados', 'Belarus', 'Belgium', 'Belize', 'Benin',\n",
              "       'Bhutan', 'Bolivia (Plurinational State of)',\n",
              "       'Bosnia and Herzegovina', 'Botswana', 'Brazil',\n",
              "       'Brunei Darussalam', 'Bulgaria', 'Burkina Faso', 'Burundi',\n",
              "       'Cabo Verde', 'Cambodia', 'Cameroon', 'Canada',\n",
              "       'Central African Republic', 'Chad', 'Chile', 'China',\n",
              "       'China, Hong Kong Special Administrative Region',\n",
              "       'China, Macao Special Administrative Region', 'Colombia',\n",
              "       'Comoros', 'Congo', 'Costa Rica', \"Côte d'Ivoire\", 'Croatia',\n",
              "       'Cuba', 'Cyprus', 'Czech Republic',\n",
              "       \"Democratic People's Republic of Korea\",\n",
              "       'Democratic Republic of the Congo', 'Denmark', 'Djibouti',\n",
              "       'Dominica', 'Dominican Republic', 'Ecuador', 'Egypt',\n",
              "       'El Salvador', 'Equatorial Guinea', 'Eritrea', 'Estonia',\n",
              "       'Ethiopia', 'Fiji', 'Finland', 'France', 'Gabon', 'Gambia',\n",
              "       'Georgia', 'Germany', 'Ghana', 'Greece', 'Grenada', 'Guatemala',\n",
              "       'Guinea', 'Guinea-Bissau', 'Guyana', 'Haiti', 'Honduras',\n",
              "       'Hungary', 'Iceland', 'India', 'Indonesia',\n",
              "       'Iran (Islamic Republic of)', 'Iraq', 'Ireland', 'Israel', 'Italy',\n",
              "       'Jamaica', 'Japan', 'Jordan', 'Kazakhstan', 'Kenya', 'Kiribati',\n",
              "       'Kuwait', 'Kyrgyzstan', \"Lao People's Democratic Republic\",\n",
              "       'Latvia', 'Lebanon', 'Lesotho', 'Liberia', 'Libya',\n",
              "       'Liechtenstein', 'Lithuania', 'Luxembourg', 'Madagascar', 'Malawi',\n",
              "       'Malaysia', 'Maldives', 'Mali', 'Malta', 'Marshall Islands',\n",
              "       'Mauritania', 'Mauritius', 'Mexico', 'Monaco', 'Mongolia',\n",
              "       'Montenegro', 'Morocco', 'Mozambique', 'Myanmar', 'Namibia',\n",
              "       'Nauru', 'Nepal', 'Netherlands', 'New Caledonia', 'New Zealand',\n",
              "       'Nicaragua', 'Niger', 'Nigeria', 'Norway', 'Oman', 'Pakistan',\n",
              "       'Palau', 'Panama', 'Papua New Guinea', 'Paraguay', 'Peru',\n",
              "       'Philippines', 'Poland', 'Portugal', 'Qatar', 'Republic of Korea',\n",
              "       'Republic of Moldova', 'Romania', 'Russian Federation', 'Rwanda',\n",
              "       'Saint Kitts and Nevis', 'Saint Lucia',\n",
              "       'Saint Vincent and the Grenadines', 'Samoa', 'San Marino',\n",
              "       'Sao Tome and Principe', 'Saudi Arabia', 'Senegal', 'Serbia',\n",
              "       'Seychelles', 'Sierra Leone', 'Singapore', 'Slovakia', 'Slovenia',\n",
              "       'Somalia', 'South Africa', 'Spain', 'Sri Lanka',\n",
              "       'State of Palestine', 'Sudan', 'Suriname', 'Swaziland', 'Sweden',\n",
              "       'Switzerland', 'Syrian Arab Republic', 'Tajikistan', 'Thailand',\n",
              "       'The former Yugoslav Republic of Macedonia', 'Togo', 'Tonga',\n",
              "       'Trinidad and Tobago', 'Tunisia', 'Turkey', 'Turkmenistan',\n",
              "       'Tuvalu', 'Uganda', 'Ukraine', 'United Arab Emirates',\n",
              "       'United Kingdom of Great Britain and Northern Ireland',\n",
              "       'United Republic of Tanzania', 'United States of America',\n",
              "       'Uruguay', 'Uzbekistan', 'Vanuatu',\n",
              "       'Venezuela (Bolivarian Republic of)', 'Viet Nam', 'Western Sahara',\n",
              "       'Yemen', 'Zambia', 'Zimbabwe'], dtype=object)"
            ]
          },
          "metadata": {},
          "execution_count": 7
        }
      ]
    },
    {
      "cell_type": "code",
      "metadata": {
        "colab": {
          "base_uri": "https://localhost:8080/"
        },
        "id": "y6NB9nLfVgRk",
        "outputId": "ae688b7e-62a1-4162-f66e-d3e2871aa8d3"
      },
      "source": [
        "# Verificação de existe algum dado ausente\n",
        "df_canada.isnull().sum()"
      ],
      "execution_count": 8,
      "outputs": [
        {
          "output_type": "execute_result",
          "data": {
            "text/plain": [
              "Type        0\n",
              "Coverage    0\n",
              "OdName      0\n",
              "AREA        0\n",
              "AreaName    0\n",
              "REG         0\n",
              "RegName     0\n",
              "DEV         0\n",
              "DevName     0\n",
              "1980        0\n",
              "1981        0\n",
              "1982        0\n",
              "1983        0\n",
              "1984        0\n",
              "1985        0\n",
              "1986        0\n",
              "1987        0\n",
              "1988        0\n",
              "1989        0\n",
              "1990        0\n",
              "1991        0\n",
              "1992        0\n",
              "1993        0\n",
              "1994        0\n",
              "1995        0\n",
              "1996        0\n",
              "1997        0\n",
              "1998        0\n",
              "1999        0\n",
              "2000        0\n",
              "2001        0\n",
              "2002        0\n",
              "2003        0\n",
              "2004        0\n",
              "2005        0\n",
              "2006        0\n",
              "2007        0\n",
              "2008        0\n",
              "2009        0\n",
              "2010        0\n",
              "2011        0\n",
              "2012        0\n",
              "2013        0\n",
              "dtype: int64"
            ]
          },
          "metadata": {},
          "execution_count": 8
        }
      ]
    },
    {
      "cell_type": "code",
      "metadata": {
        "colab": {
          "base_uri": "https://localhost:8080/"
        },
        "id": "5Svas3IKhTGF",
        "outputId": "1529e513-8ccc-4c5f-fa93-d5ba29617c44"
      },
      "source": [
        "# Verificação das dimensões do dataset (quantidade de linhas e colunas)\n",
        "df_canada.shape"
      ],
      "execution_count": 9,
      "outputs": [
        {
          "output_type": "execute_result",
          "data": {
            "text/plain": [
              "(195, 43)"
            ]
          },
          "metadata": {},
          "execution_count": 9
        }
      ]
    },
    {
      "cell_type": "markdown",
      "metadata": {
        "id": "k16LwL_PV02p"
      },
      "source": [
        "<h2>Pré Processamento dos Dados</h2>"
      ]
    },
    {
      "cell_type": "code",
      "metadata": {
        "colab": {
          "base_uri": "https://localhost:8080/",
          "height": 313
        },
        "id": "YN455zvchzYL",
        "outputId": "95445ecc-8fa5-4bc8-f2c3-3239a8c57835"
      },
      "source": [
        "# Limpeza dos dados que não são necessários\n",
        "df_canada.drop(['AREA', 'REG', 'DEV', 'Type', 'Coverage'], axis=1, inplace=True)\n",
        "df_canada.head()"
      ],
      "execution_count": 10,
      "outputs": [
        {
          "output_type": "execute_result",
          "data": {
            "text/html": [
              "<div>\n",
              "<style scoped>\n",
              "    .dataframe tbody tr th:only-of-type {\n",
              "        vertical-align: middle;\n",
              "    }\n",
              "\n",
              "    .dataframe tbody tr th {\n",
              "        vertical-align: top;\n",
              "    }\n",
              "\n",
              "    .dataframe thead th {\n",
              "        text-align: right;\n",
              "    }\n",
              "</style>\n",
              "<table border=\"1\" class=\"dataframe\">\n",
              "  <thead>\n",
              "    <tr style=\"text-align: right;\">\n",
              "      <th></th>\n",
              "      <th>OdName</th>\n",
              "      <th>AreaName</th>\n",
              "      <th>RegName</th>\n",
              "      <th>DevName</th>\n",
              "      <th>1980</th>\n",
              "      <th>1981</th>\n",
              "      <th>1982</th>\n",
              "      <th>1983</th>\n",
              "      <th>1984</th>\n",
              "      <th>1985</th>\n",
              "      <th>1986</th>\n",
              "      <th>1987</th>\n",
              "      <th>1988</th>\n",
              "      <th>1989</th>\n",
              "      <th>1990</th>\n",
              "      <th>1991</th>\n",
              "      <th>1992</th>\n",
              "      <th>1993</th>\n",
              "      <th>1994</th>\n",
              "      <th>1995</th>\n",
              "      <th>1996</th>\n",
              "      <th>1997</th>\n",
              "      <th>1998</th>\n",
              "      <th>1999</th>\n",
              "      <th>2000</th>\n",
              "      <th>2001</th>\n",
              "      <th>2002</th>\n",
              "      <th>2003</th>\n",
              "      <th>2004</th>\n",
              "      <th>2005</th>\n",
              "      <th>2006</th>\n",
              "      <th>2007</th>\n",
              "      <th>2008</th>\n",
              "      <th>2009</th>\n",
              "      <th>2010</th>\n",
              "      <th>2011</th>\n",
              "      <th>2012</th>\n",
              "      <th>2013</th>\n",
              "    </tr>\n",
              "  </thead>\n",
              "  <tbody>\n",
              "    <tr>\n",
              "      <th>0</th>\n",
              "      <td>Afghanistan</td>\n",
              "      <td>Asia</td>\n",
              "      <td>Southern Asia</td>\n",
              "      <td>Developing regions</td>\n",
              "      <td>16</td>\n",
              "      <td>39</td>\n",
              "      <td>39</td>\n",
              "      <td>47</td>\n",
              "      <td>71</td>\n",
              "      <td>340</td>\n",
              "      <td>496</td>\n",
              "      <td>741</td>\n",
              "      <td>828</td>\n",
              "      <td>1076</td>\n",
              "      <td>1028</td>\n",
              "      <td>1378</td>\n",
              "      <td>1170</td>\n",
              "      <td>713</td>\n",
              "      <td>858</td>\n",
              "      <td>1537</td>\n",
              "      <td>2212</td>\n",
              "      <td>2555</td>\n",
              "      <td>1999</td>\n",
              "      <td>2395</td>\n",
              "      <td>3326</td>\n",
              "      <td>4067</td>\n",
              "      <td>3697</td>\n",
              "      <td>3479</td>\n",
              "      <td>2978</td>\n",
              "      <td>3436</td>\n",
              "      <td>3009</td>\n",
              "      <td>2652</td>\n",
              "      <td>2111</td>\n",
              "      <td>1746</td>\n",
              "      <td>1758</td>\n",
              "      <td>2203</td>\n",
              "      <td>2635</td>\n",
              "      <td>2004</td>\n",
              "    </tr>\n",
              "    <tr>\n",
              "      <th>1</th>\n",
              "      <td>Albania</td>\n",
              "      <td>Europe</td>\n",
              "      <td>Southern Europe</td>\n",
              "      <td>Developed regions</td>\n",
              "      <td>1</td>\n",
              "      <td>0</td>\n",
              "      <td>0</td>\n",
              "      <td>0</td>\n",
              "      <td>0</td>\n",
              "      <td>0</td>\n",
              "      <td>1</td>\n",
              "      <td>2</td>\n",
              "      <td>2</td>\n",
              "      <td>3</td>\n",
              "      <td>3</td>\n",
              "      <td>21</td>\n",
              "      <td>56</td>\n",
              "      <td>96</td>\n",
              "      <td>71</td>\n",
              "      <td>63</td>\n",
              "      <td>113</td>\n",
              "      <td>307</td>\n",
              "      <td>574</td>\n",
              "      <td>1264</td>\n",
              "      <td>1816</td>\n",
              "      <td>1602</td>\n",
              "      <td>1021</td>\n",
              "      <td>853</td>\n",
              "      <td>1450</td>\n",
              "      <td>1223</td>\n",
              "      <td>856</td>\n",
              "      <td>702</td>\n",
              "      <td>560</td>\n",
              "      <td>716</td>\n",
              "      <td>561</td>\n",
              "      <td>539</td>\n",
              "      <td>620</td>\n",
              "      <td>603</td>\n",
              "    </tr>\n",
              "    <tr>\n",
              "      <th>2</th>\n",
              "      <td>Algeria</td>\n",
              "      <td>Africa</td>\n",
              "      <td>Northern Africa</td>\n",
              "      <td>Developing regions</td>\n",
              "      <td>80</td>\n",
              "      <td>67</td>\n",
              "      <td>71</td>\n",
              "      <td>69</td>\n",
              "      <td>63</td>\n",
              "      <td>44</td>\n",
              "      <td>69</td>\n",
              "      <td>132</td>\n",
              "      <td>242</td>\n",
              "      <td>434</td>\n",
              "      <td>491</td>\n",
              "      <td>872</td>\n",
              "      <td>795</td>\n",
              "      <td>717</td>\n",
              "      <td>595</td>\n",
              "      <td>1106</td>\n",
              "      <td>2054</td>\n",
              "      <td>1842</td>\n",
              "      <td>2292</td>\n",
              "      <td>2389</td>\n",
              "      <td>2867</td>\n",
              "      <td>3418</td>\n",
              "      <td>3406</td>\n",
              "      <td>3072</td>\n",
              "      <td>3616</td>\n",
              "      <td>3626</td>\n",
              "      <td>4807</td>\n",
              "      <td>3623</td>\n",
              "      <td>4005</td>\n",
              "      <td>5393</td>\n",
              "      <td>4752</td>\n",
              "      <td>4325</td>\n",
              "      <td>3774</td>\n",
              "      <td>4331</td>\n",
              "    </tr>\n",
              "    <tr>\n",
              "      <th>3</th>\n",
              "      <td>American Samoa</td>\n",
              "      <td>Oceania</td>\n",
              "      <td>Polynesia</td>\n",
              "      <td>Developing regions</td>\n",
              "      <td>0</td>\n",
              "      <td>1</td>\n",
              "      <td>0</td>\n",
              "      <td>0</td>\n",
              "      <td>0</td>\n",
              "      <td>0</td>\n",
              "      <td>0</td>\n",
              "      <td>1</td>\n",
              "      <td>0</td>\n",
              "      <td>1</td>\n",
              "      <td>2</td>\n",
              "      <td>0</td>\n",
              "      <td>0</td>\n",
              "      <td>0</td>\n",
              "      <td>0</td>\n",
              "      <td>0</td>\n",
              "      <td>0</td>\n",
              "      <td>0</td>\n",
              "      <td>0</td>\n",
              "      <td>0</td>\n",
              "      <td>0</td>\n",
              "      <td>0</td>\n",
              "      <td>0</td>\n",
              "      <td>0</td>\n",
              "      <td>0</td>\n",
              "      <td>0</td>\n",
              "      <td>1</td>\n",
              "      <td>0</td>\n",
              "      <td>0</td>\n",
              "      <td>0</td>\n",
              "      <td>0</td>\n",
              "      <td>0</td>\n",
              "      <td>0</td>\n",
              "      <td>0</td>\n",
              "    </tr>\n",
              "    <tr>\n",
              "      <th>4</th>\n",
              "      <td>Andorra</td>\n",
              "      <td>Europe</td>\n",
              "      <td>Southern Europe</td>\n",
              "      <td>Developed regions</td>\n",
              "      <td>0</td>\n",
              "      <td>0</td>\n",
              "      <td>0</td>\n",
              "      <td>0</td>\n",
              "      <td>0</td>\n",
              "      <td>0</td>\n",
              "      <td>2</td>\n",
              "      <td>0</td>\n",
              "      <td>0</td>\n",
              "      <td>0</td>\n",
              "      <td>3</td>\n",
              "      <td>0</td>\n",
              "      <td>1</td>\n",
              "      <td>0</td>\n",
              "      <td>0</td>\n",
              "      <td>0</td>\n",
              "      <td>0</td>\n",
              "      <td>0</td>\n",
              "      <td>2</td>\n",
              "      <td>0</td>\n",
              "      <td>0</td>\n",
              "      <td>1</td>\n",
              "      <td>0</td>\n",
              "      <td>2</td>\n",
              "      <td>0</td>\n",
              "      <td>0</td>\n",
              "      <td>1</td>\n",
              "      <td>1</td>\n",
              "      <td>0</td>\n",
              "      <td>0</td>\n",
              "      <td>0</td>\n",
              "      <td>0</td>\n",
              "      <td>1</td>\n",
              "      <td>1</td>\n",
              "    </tr>\n",
              "  </tbody>\n",
              "</table>\n",
              "</div>"
            ],
            "text/plain": [
              "           OdName AreaName          RegName  ...  2011  2012  2013\n",
              "0     Afghanistan     Asia    Southern Asia  ...  2203  2635  2004\n",
              "1         Albania   Europe  Southern Europe  ...   539   620   603\n",
              "2         Algeria   Africa  Northern Africa  ...  4325  3774  4331\n",
              "3  American Samoa  Oceania        Polynesia  ...     0     0     0\n",
              "4         Andorra   Europe  Southern Europe  ...     0     1     1\n",
              "\n",
              "[5 rows x 38 columns]"
            ]
          },
          "metadata": {},
          "execution_count": 10
        }
      ]
    },
    {
      "cell_type": "code",
      "metadata": {
        "colab": {
          "base_uri": "https://localhost:8080/"
        },
        "id": "eSezS8Cgjjln",
        "outputId": "88a8feee-621a-4a79-bb70-039f8e013892"
      },
      "source": [
        "df_canada.shape"
      ],
      "execution_count": 11,
      "outputs": [
        {
          "output_type": "execute_result",
          "data": {
            "text/plain": [
              "(195, 38)"
            ]
          },
          "metadata": {},
          "execution_count": 11
        }
      ]
    },
    {
      "cell_type": "code",
      "metadata": {
        "colab": {
          "base_uri": "https://localhost:8080/",
          "height": 313
        },
        "id": "IenjiOFKh7yg",
        "outputId": "b81fadf9-6fd7-4850-be28-f1c05a3ec2ab"
      },
      "source": [
        "# Padronização dos nomes das colunas que serão utilizadas\n",
        "df_canada.rename(columns={'OdName':'Pais', 'AreaName':'Continente','RegName':'Região'}, inplace=True)\n",
        "df_canada.head()"
      ],
      "execution_count": 12,
      "outputs": [
        {
          "output_type": "execute_result",
          "data": {
            "text/html": [
              "<div>\n",
              "<style scoped>\n",
              "    .dataframe tbody tr th:only-of-type {\n",
              "        vertical-align: middle;\n",
              "    }\n",
              "\n",
              "    .dataframe tbody tr th {\n",
              "        vertical-align: top;\n",
              "    }\n",
              "\n",
              "    .dataframe thead th {\n",
              "        text-align: right;\n",
              "    }\n",
              "</style>\n",
              "<table border=\"1\" class=\"dataframe\">\n",
              "  <thead>\n",
              "    <tr style=\"text-align: right;\">\n",
              "      <th></th>\n",
              "      <th>Pais</th>\n",
              "      <th>Continente</th>\n",
              "      <th>Região</th>\n",
              "      <th>DevName</th>\n",
              "      <th>1980</th>\n",
              "      <th>1981</th>\n",
              "      <th>1982</th>\n",
              "      <th>1983</th>\n",
              "      <th>1984</th>\n",
              "      <th>1985</th>\n",
              "      <th>1986</th>\n",
              "      <th>1987</th>\n",
              "      <th>1988</th>\n",
              "      <th>1989</th>\n",
              "      <th>1990</th>\n",
              "      <th>1991</th>\n",
              "      <th>1992</th>\n",
              "      <th>1993</th>\n",
              "      <th>1994</th>\n",
              "      <th>1995</th>\n",
              "      <th>1996</th>\n",
              "      <th>1997</th>\n",
              "      <th>1998</th>\n",
              "      <th>1999</th>\n",
              "      <th>2000</th>\n",
              "      <th>2001</th>\n",
              "      <th>2002</th>\n",
              "      <th>2003</th>\n",
              "      <th>2004</th>\n",
              "      <th>2005</th>\n",
              "      <th>2006</th>\n",
              "      <th>2007</th>\n",
              "      <th>2008</th>\n",
              "      <th>2009</th>\n",
              "      <th>2010</th>\n",
              "      <th>2011</th>\n",
              "      <th>2012</th>\n",
              "      <th>2013</th>\n",
              "    </tr>\n",
              "  </thead>\n",
              "  <tbody>\n",
              "    <tr>\n",
              "      <th>0</th>\n",
              "      <td>Afghanistan</td>\n",
              "      <td>Asia</td>\n",
              "      <td>Southern Asia</td>\n",
              "      <td>Developing regions</td>\n",
              "      <td>16</td>\n",
              "      <td>39</td>\n",
              "      <td>39</td>\n",
              "      <td>47</td>\n",
              "      <td>71</td>\n",
              "      <td>340</td>\n",
              "      <td>496</td>\n",
              "      <td>741</td>\n",
              "      <td>828</td>\n",
              "      <td>1076</td>\n",
              "      <td>1028</td>\n",
              "      <td>1378</td>\n",
              "      <td>1170</td>\n",
              "      <td>713</td>\n",
              "      <td>858</td>\n",
              "      <td>1537</td>\n",
              "      <td>2212</td>\n",
              "      <td>2555</td>\n",
              "      <td>1999</td>\n",
              "      <td>2395</td>\n",
              "      <td>3326</td>\n",
              "      <td>4067</td>\n",
              "      <td>3697</td>\n",
              "      <td>3479</td>\n",
              "      <td>2978</td>\n",
              "      <td>3436</td>\n",
              "      <td>3009</td>\n",
              "      <td>2652</td>\n",
              "      <td>2111</td>\n",
              "      <td>1746</td>\n",
              "      <td>1758</td>\n",
              "      <td>2203</td>\n",
              "      <td>2635</td>\n",
              "      <td>2004</td>\n",
              "    </tr>\n",
              "    <tr>\n",
              "      <th>1</th>\n",
              "      <td>Albania</td>\n",
              "      <td>Europe</td>\n",
              "      <td>Southern Europe</td>\n",
              "      <td>Developed regions</td>\n",
              "      <td>1</td>\n",
              "      <td>0</td>\n",
              "      <td>0</td>\n",
              "      <td>0</td>\n",
              "      <td>0</td>\n",
              "      <td>0</td>\n",
              "      <td>1</td>\n",
              "      <td>2</td>\n",
              "      <td>2</td>\n",
              "      <td>3</td>\n",
              "      <td>3</td>\n",
              "      <td>21</td>\n",
              "      <td>56</td>\n",
              "      <td>96</td>\n",
              "      <td>71</td>\n",
              "      <td>63</td>\n",
              "      <td>113</td>\n",
              "      <td>307</td>\n",
              "      <td>574</td>\n",
              "      <td>1264</td>\n",
              "      <td>1816</td>\n",
              "      <td>1602</td>\n",
              "      <td>1021</td>\n",
              "      <td>853</td>\n",
              "      <td>1450</td>\n",
              "      <td>1223</td>\n",
              "      <td>856</td>\n",
              "      <td>702</td>\n",
              "      <td>560</td>\n",
              "      <td>716</td>\n",
              "      <td>561</td>\n",
              "      <td>539</td>\n",
              "      <td>620</td>\n",
              "      <td>603</td>\n",
              "    </tr>\n",
              "    <tr>\n",
              "      <th>2</th>\n",
              "      <td>Algeria</td>\n",
              "      <td>Africa</td>\n",
              "      <td>Northern Africa</td>\n",
              "      <td>Developing regions</td>\n",
              "      <td>80</td>\n",
              "      <td>67</td>\n",
              "      <td>71</td>\n",
              "      <td>69</td>\n",
              "      <td>63</td>\n",
              "      <td>44</td>\n",
              "      <td>69</td>\n",
              "      <td>132</td>\n",
              "      <td>242</td>\n",
              "      <td>434</td>\n",
              "      <td>491</td>\n",
              "      <td>872</td>\n",
              "      <td>795</td>\n",
              "      <td>717</td>\n",
              "      <td>595</td>\n",
              "      <td>1106</td>\n",
              "      <td>2054</td>\n",
              "      <td>1842</td>\n",
              "      <td>2292</td>\n",
              "      <td>2389</td>\n",
              "      <td>2867</td>\n",
              "      <td>3418</td>\n",
              "      <td>3406</td>\n",
              "      <td>3072</td>\n",
              "      <td>3616</td>\n",
              "      <td>3626</td>\n",
              "      <td>4807</td>\n",
              "      <td>3623</td>\n",
              "      <td>4005</td>\n",
              "      <td>5393</td>\n",
              "      <td>4752</td>\n",
              "      <td>4325</td>\n",
              "      <td>3774</td>\n",
              "      <td>4331</td>\n",
              "    </tr>\n",
              "    <tr>\n",
              "      <th>3</th>\n",
              "      <td>American Samoa</td>\n",
              "      <td>Oceania</td>\n",
              "      <td>Polynesia</td>\n",
              "      <td>Developing regions</td>\n",
              "      <td>0</td>\n",
              "      <td>1</td>\n",
              "      <td>0</td>\n",
              "      <td>0</td>\n",
              "      <td>0</td>\n",
              "      <td>0</td>\n",
              "      <td>0</td>\n",
              "      <td>1</td>\n",
              "      <td>0</td>\n",
              "      <td>1</td>\n",
              "      <td>2</td>\n",
              "      <td>0</td>\n",
              "      <td>0</td>\n",
              "      <td>0</td>\n",
              "      <td>0</td>\n",
              "      <td>0</td>\n",
              "      <td>0</td>\n",
              "      <td>0</td>\n",
              "      <td>0</td>\n",
              "      <td>0</td>\n",
              "      <td>0</td>\n",
              "      <td>0</td>\n",
              "      <td>0</td>\n",
              "      <td>0</td>\n",
              "      <td>0</td>\n",
              "      <td>0</td>\n",
              "      <td>1</td>\n",
              "      <td>0</td>\n",
              "      <td>0</td>\n",
              "      <td>0</td>\n",
              "      <td>0</td>\n",
              "      <td>0</td>\n",
              "      <td>0</td>\n",
              "      <td>0</td>\n",
              "    </tr>\n",
              "    <tr>\n",
              "      <th>4</th>\n",
              "      <td>Andorra</td>\n",
              "      <td>Europe</td>\n",
              "      <td>Southern Europe</td>\n",
              "      <td>Developed regions</td>\n",
              "      <td>0</td>\n",
              "      <td>0</td>\n",
              "      <td>0</td>\n",
              "      <td>0</td>\n",
              "      <td>0</td>\n",
              "      <td>0</td>\n",
              "      <td>2</td>\n",
              "      <td>0</td>\n",
              "      <td>0</td>\n",
              "      <td>0</td>\n",
              "      <td>3</td>\n",
              "      <td>0</td>\n",
              "      <td>1</td>\n",
              "      <td>0</td>\n",
              "      <td>0</td>\n",
              "      <td>0</td>\n",
              "      <td>0</td>\n",
              "      <td>0</td>\n",
              "      <td>2</td>\n",
              "      <td>0</td>\n",
              "      <td>0</td>\n",
              "      <td>1</td>\n",
              "      <td>0</td>\n",
              "      <td>2</td>\n",
              "      <td>0</td>\n",
              "      <td>0</td>\n",
              "      <td>1</td>\n",
              "      <td>1</td>\n",
              "      <td>0</td>\n",
              "      <td>0</td>\n",
              "      <td>0</td>\n",
              "      <td>0</td>\n",
              "      <td>1</td>\n",
              "      <td>1</td>\n",
              "    </tr>\n",
              "  </tbody>\n",
              "</table>\n",
              "</div>"
            ],
            "text/plain": [
              "             Pais Continente           Região  ...  2011  2012  2013\n",
              "0     Afghanistan       Asia    Southern Asia  ...  2203  2635  2004\n",
              "1         Albania     Europe  Southern Europe  ...   539   620   603\n",
              "2         Algeria     Africa  Northern Africa  ...  4325  3774  4331\n",
              "3  American Samoa    Oceania        Polynesia  ...     0     0     0\n",
              "4         Andorra     Europe  Southern Europe  ...     0     1     1\n",
              "\n",
              "[5 rows x 38 columns]"
            ]
          },
          "metadata": {},
          "execution_count": 12
        }
      ]
    },
    {
      "cell_type": "code",
      "metadata": {
        "colab": {
          "base_uri": "https://localhost:8080/"
        },
        "id": "9LHPzPxhiMcL",
        "outputId": "031cb83a-0a53-45f1-e5d5-bf38659d1f00"
      },
      "source": [
        "# Verificar se todos os rótulos das colunas são do tipo string e caso não seja transformá-los\n",
        "df_canada.columns = list(map(str, df_canada.columns))\n",
        "all(isinstance(column, str) for column in df_canada.columns)"
      ],
      "execution_count": 13,
      "outputs": [
        {
          "output_type": "execute_result",
          "data": {
            "text/plain": [
              "True"
            ]
          },
          "metadata": {},
          "execution_count": 13
        }
      ]
    },
    {
      "cell_type": "code",
      "metadata": {
        "colab": {
          "base_uri": "https://localhost:8080/",
          "height": 344
        },
        "id": "U4jhyOOFiVHB",
        "outputId": "1dca850c-4b80-41b7-c42c-033aa617354c"
      },
      "source": [
        "# Definir o nome do país como índice. Isso é útil para pesquisar países mais rapidamente usando o método .loc.\n",
        "df_canada.set_index('Pais', inplace=True)\n",
        "df_canada.head()"
      ],
      "execution_count": 14,
      "outputs": [
        {
          "output_type": "execute_result",
          "data": {
            "text/html": [
              "<div>\n",
              "<style scoped>\n",
              "    .dataframe tbody tr th:only-of-type {\n",
              "        vertical-align: middle;\n",
              "    }\n",
              "\n",
              "    .dataframe tbody tr th {\n",
              "        vertical-align: top;\n",
              "    }\n",
              "\n",
              "    .dataframe thead th {\n",
              "        text-align: right;\n",
              "    }\n",
              "</style>\n",
              "<table border=\"1\" class=\"dataframe\">\n",
              "  <thead>\n",
              "    <tr style=\"text-align: right;\">\n",
              "      <th></th>\n",
              "      <th>Continente</th>\n",
              "      <th>Região</th>\n",
              "      <th>DevName</th>\n",
              "      <th>1980</th>\n",
              "      <th>1981</th>\n",
              "      <th>1982</th>\n",
              "      <th>1983</th>\n",
              "      <th>1984</th>\n",
              "      <th>1985</th>\n",
              "      <th>1986</th>\n",
              "      <th>1987</th>\n",
              "      <th>1988</th>\n",
              "      <th>1989</th>\n",
              "      <th>1990</th>\n",
              "      <th>1991</th>\n",
              "      <th>1992</th>\n",
              "      <th>1993</th>\n",
              "      <th>1994</th>\n",
              "      <th>1995</th>\n",
              "      <th>1996</th>\n",
              "      <th>1997</th>\n",
              "      <th>1998</th>\n",
              "      <th>1999</th>\n",
              "      <th>2000</th>\n",
              "      <th>2001</th>\n",
              "      <th>2002</th>\n",
              "      <th>2003</th>\n",
              "      <th>2004</th>\n",
              "      <th>2005</th>\n",
              "      <th>2006</th>\n",
              "      <th>2007</th>\n",
              "      <th>2008</th>\n",
              "      <th>2009</th>\n",
              "      <th>2010</th>\n",
              "      <th>2011</th>\n",
              "      <th>2012</th>\n",
              "      <th>2013</th>\n",
              "    </tr>\n",
              "    <tr>\n",
              "      <th>Pais</th>\n",
              "      <th></th>\n",
              "      <th></th>\n",
              "      <th></th>\n",
              "      <th></th>\n",
              "      <th></th>\n",
              "      <th></th>\n",
              "      <th></th>\n",
              "      <th></th>\n",
              "      <th></th>\n",
              "      <th></th>\n",
              "      <th></th>\n",
              "      <th></th>\n",
              "      <th></th>\n",
              "      <th></th>\n",
              "      <th></th>\n",
              "      <th></th>\n",
              "      <th></th>\n",
              "      <th></th>\n",
              "      <th></th>\n",
              "      <th></th>\n",
              "      <th></th>\n",
              "      <th></th>\n",
              "      <th></th>\n",
              "      <th></th>\n",
              "      <th></th>\n",
              "      <th></th>\n",
              "      <th></th>\n",
              "      <th></th>\n",
              "      <th></th>\n",
              "      <th></th>\n",
              "      <th></th>\n",
              "      <th></th>\n",
              "      <th></th>\n",
              "      <th></th>\n",
              "      <th></th>\n",
              "      <th></th>\n",
              "      <th></th>\n",
              "    </tr>\n",
              "  </thead>\n",
              "  <tbody>\n",
              "    <tr>\n",
              "      <th>Afghanistan</th>\n",
              "      <td>Asia</td>\n",
              "      <td>Southern Asia</td>\n",
              "      <td>Developing regions</td>\n",
              "      <td>16</td>\n",
              "      <td>39</td>\n",
              "      <td>39</td>\n",
              "      <td>47</td>\n",
              "      <td>71</td>\n",
              "      <td>340</td>\n",
              "      <td>496</td>\n",
              "      <td>741</td>\n",
              "      <td>828</td>\n",
              "      <td>1076</td>\n",
              "      <td>1028</td>\n",
              "      <td>1378</td>\n",
              "      <td>1170</td>\n",
              "      <td>713</td>\n",
              "      <td>858</td>\n",
              "      <td>1537</td>\n",
              "      <td>2212</td>\n",
              "      <td>2555</td>\n",
              "      <td>1999</td>\n",
              "      <td>2395</td>\n",
              "      <td>3326</td>\n",
              "      <td>4067</td>\n",
              "      <td>3697</td>\n",
              "      <td>3479</td>\n",
              "      <td>2978</td>\n",
              "      <td>3436</td>\n",
              "      <td>3009</td>\n",
              "      <td>2652</td>\n",
              "      <td>2111</td>\n",
              "      <td>1746</td>\n",
              "      <td>1758</td>\n",
              "      <td>2203</td>\n",
              "      <td>2635</td>\n",
              "      <td>2004</td>\n",
              "    </tr>\n",
              "    <tr>\n",
              "      <th>Albania</th>\n",
              "      <td>Europe</td>\n",
              "      <td>Southern Europe</td>\n",
              "      <td>Developed regions</td>\n",
              "      <td>1</td>\n",
              "      <td>0</td>\n",
              "      <td>0</td>\n",
              "      <td>0</td>\n",
              "      <td>0</td>\n",
              "      <td>0</td>\n",
              "      <td>1</td>\n",
              "      <td>2</td>\n",
              "      <td>2</td>\n",
              "      <td>3</td>\n",
              "      <td>3</td>\n",
              "      <td>21</td>\n",
              "      <td>56</td>\n",
              "      <td>96</td>\n",
              "      <td>71</td>\n",
              "      <td>63</td>\n",
              "      <td>113</td>\n",
              "      <td>307</td>\n",
              "      <td>574</td>\n",
              "      <td>1264</td>\n",
              "      <td>1816</td>\n",
              "      <td>1602</td>\n",
              "      <td>1021</td>\n",
              "      <td>853</td>\n",
              "      <td>1450</td>\n",
              "      <td>1223</td>\n",
              "      <td>856</td>\n",
              "      <td>702</td>\n",
              "      <td>560</td>\n",
              "      <td>716</td>\n",
              "      <td>561</td>\n",
              "      <td>539</td>\n",
              "      <td>620</td>\n",
              "      <td>603</td>\n",
              "    </tr>\n",
              "    <tr>\n",
              "      <th>Algeria</th>\n",
              "      <td>Africa</td>\n",
              "      <td>Northern Africa</td>\n",
              "      <td>Developing regions</td>\n",
              "      <td>80</td>\n",
              "      <td>67</td>\n",
              "      <td>71</td>\n",
              "      <td>69</td>\n",
              "      <td>63</td>\n",
              "      <td>44</td>\n",
              "      <td>69</td>\n",
              "      <td>132</td>\n",
              "      <td>242</td>\n",
              "      <td>434</td>\n",
              "      <td>491</td>\n",
              "      <td>872</td>\n",
              "      <td>795</td>\n",
              "      <td>717</td>\n",
              "      <td>595</td>\n",
              "      <td>1106</td>\n",
              "      <td>2054</td>\n",
              "      <td>1842</td>\n",
              "      <td>2292</td>\n",
              "      <td>2389</td>\n",
              "      <td>2867</td>\n",
              "      <td>3418</td>\n",
              "      <td>3406</td>\n",
              "      <td>3072</td>\n",
              "      <td>3616</td>\n",
              "      <td>3626</td>\n",
              "      <td>4807</td>\n",
              "      <td>3623</td>\n",
              "      <td>4005</td>\n",
              "      <td>5393</td>\n",
              "      <td>4752</td>\n",
              "      <td>4325</td>\n",
              "      <td>3774</td>\n",
              "      <td>4331</td>\n",
              "    </tr>\n",
              "    <tr>\n",
              "      <th>American Samoa</th>\n",
              "      <td>Oceania</td>\n",
              "      <td>Polynesia</td>\n",
              "      <td>Developing regions</td>\n",
              "      <td>0</td>\n",
              "      <td>1</td>\n",
              "      <td>0</td>\n",
              "      <td>0</td>\n",
              "      <td>0</td>\n",
              "      <td>0</td>\n",
              "      <td>0</td>\n",
              "      <td>1</td>\n",
              "      <td>0</td>\n",
              "      <td>1</td>\n",
              "      <td>2</td>\n",
              "      <td>0</td>\n",
              "      <td>0</td>\n",
              "      <td>0</td>\n",
              "      <td>0</td>\n",
              "      <td>0</td>\n",
              "      <td>0</td>\n",
              "      <td>0</td>\n",
              "      <td>0</td>\n",
              "      <td>0</td>\n",
              "      <td>0</td>\n",
              "      <td>0</td>\n",
              "      <td>0</td>\n",
              "      <td>0</td>\n",
              "      <td>0</td>\n",
              "      <td>0</td>\n",
              "      <td>1</td>\n",
              "      <td>0</td>\n",
              "      <td>0</td>\n",
              "      <td>0</td>\n",
              "      <td>0</td>\n",
              "      <td>0</td>\n",
              "      <td>0</td>\n",
              "      <td>0</td>\n",
              "    </tr>\n",
              "    <tr>\n",
              "      <th>Andorra</th>\n",
              "      <td>Europe</td>\n",
              "      <td>Southern Europe</td>\n",
              "      <td>Developed regions</td>\n",
              "      <td>0</td>\n",
              "      <td>0</td>\n",
              "      <td>0</td>\n",
              "      <td>0</td>\n",
              "      <td>0</td>\n",
              "      <td>0</td>\n",
              "      <td>2</td>\n",
              "      <td>0</td>\n",
              "      <td>0</td>\n",
              "      <td>0</td>\n",
              "      <td>3</td>\n",
              "      <td>0</td>\n",
              "      <td>1</td>\n",
              "      <td>0</td>\n",
              "      <td>0</td>\n",
              "      <td>0</td>\n",
              "      <td>0</td>\n",
              "      <td>0</td>\n",
              "      <td>2</td>\n",
              "      <td>0</td>\n",
              "      <td>0</td>\n",
              "      <td>1</td>\n",
              "      <td>0</td>\n",
              "      <td>2</td>\n",
              "      <td>0</td>\n",
              "      <td>0</td>\n",
              "      <td>1</td>\n",
              "      <td>1</td>\n",
              "      <td>0</td>\n",
              "      <td>0</td>\n",
              "      <td>0</td>\n",
              "      <td>0</td>\n",
              "      <td>1</td>\n",
              "      <td>1</td>\n",
              "    </tr>\n",
              "  </tbody>\n",
              "</table>\n",
              "</div>"
            ],
            "text/plain": [
              "               Continente           Região  ...  2012  2013\n",
              "Pais                                        ...            \n",
              "Afghanistan          Asia    Southern Asia  ...  2635  2004\n",
              "Albania            Europe  Southern Europe  ...   620   603\n",
              "Algeria            Africa  Northern Africa  ...  3774  4331\n",
              "American Samoa    Oceania        Polynesia  ...     0     0\n",
              "Andorra            Europe  Southern Europe  ...     1     1\n",
              "\n",
              "[5 rows x 37 columns]"
            ]
          },
          "metadata": {},
          "execution_count": 14
        }
      ]
    },
    {
      "cell_type": "code",
      "metadata": {
        "colab": {
          "base_uri": "https://localhost:8080/",
          "height": 344
        },
        "id": "0bphEOnCibPT",
        "outputId": "61c148fe-de70-4278-a0f1-89b50df2dbc1"
      },
      "source": [
        "# Calcular e adicionar coluna total\n",
        "df_canada['Total'] = df_canada.sum(axis=1)\n",
        "df_canada.head()"
      ],
      "execution_count": 15,
      "outputs": [
        {
          "output_type": "execute_result",
          "data": {
            "text/html": [
              "<div>\n",
              "<style scoped>\n",
              "    .dataframe tbody tr th:only-of-type {\n",
              "        vertical-align: middle;\n",
              "    }\n",
              "\n",
              "    .dataframe tbody tr th {\n",
              "        vertical-align: top;\n",
              "    }\n",
              "\n",
              "    .dataframe thead th {\n",
              "        text-align: right;\n",
              "    }\n",
              "</style>\n",
              "<table border=\"1\" class=\"dataframe\">\n",
              "  <thead>\n",
              "    <tr style=\"text-align: right;\">\n",
              "      <th></th>\n",
              "      <th>Continente</th>\n",
              "      <th>Região</th>\n",
              "      <th>DevName</th>\n",
              "      <th>1980</th>\n",
              "      <th>1981</th>\n",
              "      <th>1982</th>\n",
              "      <th>1983</th>\n",
              "      <th>1984</th>\n",
              "      <th>1985</th>\n",
              "      <th>1986</th>\n",
              "      <th>1987</th>\n",
              "      <th>1988</th>\n",
              "      <th>1989</th>\n",
              "      <th>1990</th>\n",
              "      <th>1991</th>\n",
              "      <th>1992</th>\n",
              "      <th>1993</th>\n",
              "      <th>1994</th>\n",
              "      <th>1995</th>\n",
              "      <th>1996</th>\n",
              "      <th>1997</th>\n",
              "      <th>1998</th>\n",
              "      <th>1999</th>\n",
              "      <th>2000</th>\n",
              "      <th>2001</th>\n",
              "      <th>2002</th>\n",
              "      <th>2003</th>\n",
              "      <th>2004</th>\n",
              "      <th>2005</th>\n",
              "      <th>2006</th>\n",
              "      <th>2007</th>\n",
              "      <th>2008</th>\n",
              "      <th>2009</th>\n",
              "      <th>2010</th>\n",
              "      <th>2011</th>\n",
              "      <th>2012</th>\n",
              "      <th>2013</th>\n",
              "      <th>Total</th>\n",
              "    </tr>\n",
              "    <tr>\n",
              "      <th>Pais</th>\n",
              "      <th></th>\n",
              "      <th></th>\n",
              "      <th></th>\n",
              "      <th></th>\n",
              "      <th></th>\n",
              "      <th></th>\n",
              "      <th></th>\n",
              "      <th></th>\n",
              "      <th></th>\n",
              "      <th></th>\n",
              "      <th></th>\n",
              "      <th></th>\n",
              "      <th></th>\n",
              "      <th></th>\n",
              "      <th></th>\n",
              "      <th></th>\n",
              "      <th></th>\n",
              "      <th></th>\n",
              "      <th></th>\n",
              "      <th></th>\n",
              "      <th></th>\n",
              "      <th></th>\n",
              "      <th></th>\n",
              "      <th></th>\n",
              "      <th></th>\n",
              "      <th></th>\n",
              "      <th></th>\n",
              "      <th></th>\n",
              "      <th></th>\n",
              "      <th></th>\n",
              "      <th></th>\n",
              "      <th></th>\n",
              "      <th></th>\n",
              "      <th></th>\n",
              "      <th></th>\n",
              "      <th></th>\n",
              "      <th></th>\n",
              "      <th></th>\n",
              "    </tr>\n",
              "  </thead>\n",
              "  <tbody>\n",
              "    <tr>\n",
              "      <th>Afghanistan</th>\n",
              "      <td>Asia</td>\n",
              "      <td>Southern Asia</td>\n",
              "      <td>Developing regions</td>\n",
              "      <td>16</td>\n",
              "      <td>39</td>\n",
              "      <td>39</td>\n",
              "      <td>47</td>\n",
              "      <td>71</td>\n",
              "      <td>340</td>\n",
              "      <td>496</td>\n",
              "      <td>741</td>\n",
              "      <td>828</td>\n",
              "      <td>1076</td>\n",
              "      <td>1028</td>\n",
              "      <td>1378</td>\n",
              "      <td>1170</td>\n",
              "      <td>713</td>\n",
              "      <td>858</td>\n",
              "      <td>1537</td>\n",
              "      <td>2212</td>\n",
              "      <td>2555</td>\n",
              "      <td>1999</td>\n",
              "      <td>2395</td>\n",
              "      <td>3326</td>\n",
              "      <td>4067</td>\n",
              "      <td>3697</td>\n",
              "      <td>3479</td>\n",
              "      <td>2978</td>\n",
              "      <td>3436</td>\n",
              "      <td>3009</td>\n",
              "      <td>2652</td>\n",
              "      <td>2111</td>\n",
              "      <td>1746</td>\n",
              "      <td>1758</td>\n",
              "      <td>2203</td>\n",
              "      <td>2635</td>\n",
              "      <td>2004</td>\n",
              "      <td>58639</td>\n",
              "    </tr>\n",
              "    <tr>\n",
              "      <th>Albania</th>\n",
              "      <td>Europe</td>\n",
              "      <td>Southern Europe</td>\n",
              "      <td>Developed regions</td>\n",
              "      <td>1</td>\n",
              "      <td>0</td>\n",
              "      <td>0</td>\n",
              "      <td>0</td>\n",
              "      <td>0</td>\n",
              "      <td>0</td>\n",
              "      <td>1</td>\n",
              "      <td>2</td>\n",
              "      <td>2</td>\n",
              "      <td>3</td>\n",
              "      <td>3</td>\n",
              "      <td>21</td>\n",
              "      <td>56</td>\n",
              "      <td>96</td>\n",
              "      <td>71</td>\n",
              "      <td>63</td>\n",
              "      <td>113</td>\n",
              "      <td>307</td>\n",
              "      <td>574</td>\n",
              "      <td>1264</td>\n",
              "      <td>1816</td>\n",
              "      <td>1602</td>\n",
              "      <td>1021</td>\n",
              "      <td>853</td>\n",
              "      <td>1450</td>\n",
              "      <td>1223</td>\n",
              "      <td>856</td>\n",
              "      <td>702</td>\n",
              "      <td>560</td>\n",
              "      <td>716</td>\n",
              "      <td>561</td>\n",
              "      <td>539</td>\n",
              "      <td>620</td>\n",
              "      <td>603</td>\n",
              "      <td>15699</td>\n",
              "    </tr>\n",
              "    <tr>\n",
              "      <th>Algeria</th>\n",
              "      <td>Africa</td>\n",
              "      <td>Northern Africa</td>\n",
              "      <td>Developing regions</td>\n",
              "      <td>80</td>\n",
              "      <td>67</td>\n",
              "      <td>71</td>\n",
              "      <td>69</td>\n",
              "      <td>63</td>\n",
              "      <td>44</td>\n",
              "      <td>69</td>\n",
              "      <td>132</td>\n",
              "      <td>242</td>\n",
              "      <td>434</td>\n",
              "      <td>491</td>\n",
              "      <td>872</td>\n",
              "      <td>795</td>\n",
              "      <td>717</td>\n",
              "      <td>595</td>\n",
              "      <td>1106</td>\n",
              "      <td>2054</td>\n",
              "      <td>1842</td>\n",
              "      <td>2292</td>\n",
              "      <td>2389</td>\n",
              "      <td>2867</td>\n",
              "      <td>3418</td>\n",
              "      <td>3406</td>\n",
              "      <td>3072</td>\n",
              "      <td>3616</td>\n",
              "      <td>3626</td>\n",
              "      <td>4807</td>\n",
              "      <td>3623</td>\n",
              "      <td>4005</td>\n",
              "      <td>5393</td>\n",
              "      <td>4752</td>\n",
              "      <td>4325</td>\n",
              "      <td>3774</td>\n",
              "      <td>4331</td>\n",
              "      <td>69439</td>\n",
              "    </tr>\n",
              "    <tr>\n",
              "      <th>American Samoa</th>\n",
              "      <td>Oceania</td>\n",
              "      <td>Polynesia</td>\n",
              "      <td>Developing regions</td>\n",
              "      <td>0</td>\n",
              "      <td>1</td>\n",
              "      <td>0</td>\n",
              "      <td>0</td>\n",
              "      <td>0</td>\n",
              "      <td>0</td>\n",
              "      <td>0</td>\n",
              "      <td>1</td>\n",
              "      <td>0</td>\n",
              "      <td>1</td>\n",
              "      <td>2</td>\n",
              "      <td>0</td>\n",
              "      <td>0</td>\n",
              "      <td>0</td>\n",
              "      <td>0</td>\n",
              "      <td>0</td>\n",
              "      <td>0</td>\n",
              "      <td>0</td>\n",
              "      <td>0</td>\n",
              "      <td>0</td>\n",
              "      <td>0</td>\n",
              "      <td>0</td>\n",
              "      <td>0</td>\n",
              "      <td>0</td>\n",
              "      <td>0</td>\n",
              "      <td>0</td>\n",
              "      <td>1</td>\n",
              "      <td>0</td>\n",
              "      <td>0</td>\n",
              "      <td>0</td>\n",
              "      <td>0</td>\n",
              "      <td>0</td>\n",
              "      <td>0</td>\n",
              "      <td>0</td>\n",
              "      <td>6</td>\n",
              "    </tr>\n",
              "    <tr>\n",
              "      <th>Andorra</th>\n",
              "      <td>Europe</td>\n",
              "      <td>Southern Europe</td>\n",
              "      <td>Developed regions</td>\n",
              "      <td>0</td>\n",
              "      <td>0</td>\n",
              "      <td>0</td>\n",
              "      <td>0</td>\n",
              "      <td>0</td>\n",
              "      <td>0</td>\n",
              "      <td>2</td>\n",
              "      <td>0</td>\n",
              "      <td>0</td>\n",
              "      <td>0</td>\n",
              "      <td>3</td>\n",
              "      <td>0</td>\n",
              "      <td>1</td>\n",
              "      <td>0</td>\n",
              "      <td>0</td>\n",
              "      <td>0</td>\n",
              "      <td>0</td>\n",
              "      <td>0</td>\n",
              "      <td>2</td>\n",
              "      <td>0</td>\n",
              "      <td>0</td>\n",
              "      <td>1</td>\n",
              "      <td>0</td>\n",
              "      <td>2</td>\n",
              "      <td>0</td>\n",
              "      <td>0</td>\n",
              "      <td>1</td>\n",
              "      <td>1</td>\n",
              "      <td>0</td>\n",
              "      <td>0</td>\n",
              "      <td>0</td>\n",
              "      <td>0</td>\n",
              "      <td>1</td>\n",
              "      <td>1</td>\n",
              "      <td>15</td>\n",
              "    </tr>\n",
              "  </tbody>\n",
              "</table>\n",
              "</div>"
            ],
            "text/plain": [
              "               Continente           Região  ...  2013  Total\n",
              "Pais                                        ...             \n",
              "Afghanistan          Asia    Southern Asia  ...  2004  58639\n",
              "Albania            Europe  Southern Europe  ...   603  15699\n",
              "Algeria            Africa  Northern Africa  ...  4331  69439\n",
              "American Samoa    Oceania        Polynesia  ...     0      6\n",
              "Andorra            Europe  Southern Europe  ...     1     15\n",
              "\n",
              "[5 rows x 38 columns]"
            ]
          },
          "metadata": {},
          "execution_count": 15
        }
      ]
    },
    {
      "cell_type": "code",
      "metadata": {
        "id": "RyPUp0CTiotM"
      },
      "source": [
        "# criar uma lista de anos de 1980 a 2013. Isso será útil para plotar os dados\n",
        "anos = list(map(str, range(1980, 2014)))"
      ],
      "execution_count": 16,
      "outputs": []
    },
    {
      "cell_type": "markdown",
      "metadata": {
        "id": "kxIU4JYRg7Am"
      },
      "source": [
        "<h2>Visualização dos Dados</h2>"
      ]
    },
    {
      "cell_type": "markdown",
      "metadata": {
        "id": "XPk_HrqE3rBg"
      },
      "source": [
        "<h3> Gráfico de Linhas</h3>"
      ]
    },
    {
      "cell_type": "markdown",
      "metadata": {
        "id": "0UcXss-YhMGr"
      },
      "source": [
        "O gráfico de linha é um tipo de gráfico que exibe informações como uma série de pontos de dados chamados 'marcadores' conectados por segmentos de linha reta. É um tipo básico de gráfico, muito comum em várias áreas.\n",
        "Utilize o gráfico de linha quando tiver um conjunto de dados contínuo. Eles são mais adequados para visualizações de dados com base em tendências durante um período de tempo."
      ]
    },
    {
      "cell_type": "code",
      "metadata": {
        "colab": {
          "base_uri": "https://localhost:8080/"
        },
        "id": "Qt2S5cjti2u8",
        "outputId": "c7db65b5-6bae-4b4b-cee4-d60cf37160ce"
      },
      "source": [
        "# Criação de um subconjunto com os dados do Brasil\n",
        "brazil = df_canada.loc['Brazil', anos] # passando nos anos 1980 - 2013\n",
        "brazil.head(10)"
      ],
      "execution_count": 17,
      "outputs": [
        {
          "output_type": "execute_result",
          "data": {
            "text/plain": [
              "1980    211\n",
              "1981    220\n",
              "1982    192\n",
              "1983    139\n",
              "1984    145\n",
              "1985    130\n",
              "1986    205\n",
              "1987    244\n",
              "1988    394\n",
              "1989    650\n",
              "Name: Brazil, dtype: object"
            ]
          },
          "metadata": {},
          "execution_count": 17
        }
      ]
    },
    {
      "cell_type": "code",
      "metadata": {
        "colab": {
          "base_uri": "https://localhost:8080/"
        },
        "id": "BM6wJolHkqZZ",
        "outputId": "a1c8f67d-8201-4b93-9664-0f37407783fa"
      },
      "source": [
        "# Criação de um subconjunto com os dados da Argentina\n",
        "argentina = df_canada.loc['Argentina', anos] # passando nos anos 1980 - 2013\n",
        "argentina.head(10)"
      ],
      "execution_count": 18,
      "outputs": [
        {
          "output_type": "execute_result",
          "data": {
            "text/plain": [
              "1980    368\n",
              "1981    426\n",
              "1982    626\n",
              "1983    241\n",
              "1984    237\n",
              "1985    196\n",
              "1986    213\n",
              "1987    519\n",
              "1988    374\n",
              "1989    538\n",
              "Name: Argentina, dtype: object"
            ]
          },
          "metadata": {},
          "execution_count": 18
        }
      ]
    },
    {
      "cell_type": "code",
      "metadata": {
        "colab": {
          "base_uri": "https://localhost:8080/"
        },
        "id": "jDvzoLMfk1yH",
        "outputId": "1d7e4312-21c5-44ce-e6bc-d78027de45d9"
      },
      "source": [
        "# Criação de um subconjunto com os dados da Argentina\n",
        "mexico = df_canada.loc['Mexico', anos] # passando nos anos 1980 - 2013\n",
        "mexico.head(10)"
      ],
      "execution_count": 19,
      "outputs": [
        {
          "output_type": "execute_result",
          "data": {
            "text/plain": [
              "1980     409\n",
              "1981     394\n",
              "1982     491\n",
              "1983     490\n",
              "1984     509\n",
              "1985     425\n",
              "1986     667\n",
              "1987     813\n",
              "1988     916\n",
              "1989    1017\n",
              "Name: Mexico, dtype: object"
            ]
          },
          "metadata": {},
          "execution_count": 19
        }
      ]
    },
    {
      "cell_type": "code",
      "metadata": {
        "colab": {
          "base_uri": "https://localhost:8080/",
          "height": 350
        },
        "id": "LXX0Gvulj7WH",
        "outputId": "5ca85967-71b7-4972-c9d3-a1b56fa99e68"
      },
      "source": [
        "# Gráfico de linha com os dados do Brasil\n",
        "brazil.index = brazil.index.map(int) # vamos mudar os valores do índice para inteiro para efetuar a plotagem\n",
        "\n",
        "brazil.plot(kind='line', figsize=(10, 5))\n",
        "\n",
        "plt.title('Imigração do Brasil para o Canadá')\n",
        "plt.ylabel('Número de Imigrantes')\n",
        "plt.xlabel('Anos')\n",
        "\n",
        "plt.show() # precisa desta linha para mostrar as atualizações feitas na figura"
      ],
      "execution_count": 20,
      "outputs": [
        {
          "output_type": "display_data",
          "data": {
            "image/png": "[encoded data removed]",
            "text/plain": [
              "<Figure size 720x360 with 1 Axes>"
            ]
          },
          "metadata": {
            "needs_background": "light"
          }
        }
      ]
    },
    {
      "cell_type": "code",
      "metadata": {
        "colab": {
          "base_uri": "https://localhost:8080/",
          "height": 195
        },
        "id": "CDC1pRkrmC7V",
        "outputId": "5700ee6e-63d9-44a2-8f45-93baead92dac"
      },
      "source": [
        "# Criação de um subconjunto com os dados do Brasil, Argentina e Méxixo\n",
        "df_brasil_argentina_mexico = df_canada.loc[['Brazil', 'Argentina', 'Mexico'], anos]\n",
        "df_brasil_argentina_mexico.head()"
      ],
      "execution_count": 21,
      "outputs": [
        {
          "output_type": "execute_result",
          "data": {
            "text/html": [
              "<div>\n",
              "<style scoped>\n",
              "    .dataframe tbody tr th:only-of-type {\n",
              "        vertical-align: middle;\n",
              "    }\n",
              "\n",
              "    .dataframe tbody tr th {\n",
              "        vertical-align: top;\n",
              "    }\n",
              "\n",
              "    .dataframe thead th {\n",
              "        text-align: right;\n",
              "    }\n",
              "</style>\n",
              "<table border=\"1\" class=\"dataframe\">\n",
              "  <thead>\n",
              "    <tr style=\"text-align: right;\">\n",
              "      <th></th>\n",
              "      <th>1980</th>\n",
              "      <th>1981</th>\n",
              "      <th>1982</th>\n",
              "      <th>1983</th>\n",
              "      <th>1984</th>\n",
              "      <th>1985</th>\n",
              "      <th>1986</th>\n",
              "      <th>1987</th>\n",
              "      <th>1988</th>\n",
              "      <th>1989</th>\n",
              "      <th>1990</th>\n",
              "      <th>1991</th>\n",
              "      <th>1992</th>\n",
              "      <th>1993</th>\n",
              "      <th>1994</th>\n",
              "      <th>1995</th>\n",
              "      <th>1996</th>\n",
              "      <th>1997</th>\n",
              "      <th>1998</th>\n",
              "      <th>1999</th>\n",
              "      <th>2000</th>\n",
              "      <th>2001</th>\n",
              "      <th>2002</th>\n",
              "      <th>2003</th>\n",
              "      <th>2004</th>\n",
              "      <th>2005</th>\n",
              "      <th>2006</th>\n",
              "      <th>2007</th>\n",
              "      <th>2008</th>\n",
              "      <th>2009</th>\n",
              "      <th>2010</th>\n",
              "      <th>2011</th>\n",
              "      <th>2012</th>\n",
              "      <th>2013</th>\n",
              "    </tr>\n",
              "    <tr>\n",
              "      <th>Pais</th>\n",
              "      <th></th>\n",
              "      <th></th>\n",
              "      <th></th>\n",
              "      <th></th>\n",
              "      <th></th>\n",
              "      <th></th>\n",
              "      <th></th>\n",
              "      <th></th>\n",
              "      <th></th>\n",
              "      <th></th>\n",
              "      <th></th>\n",
              "      <th></th>\n",
              "      <th></th>\n",
              "      <th></th>\n",
              "      <th></th>\n",
              "      <th></th>\n",
              "      <th></th>\n",
              "      <th></th>\n",
              "      <th></th>\n",
              "      <th></th>\n",
              "      <th></th>\n",
              "      <th></th>\n",
              "      <th></th>\n",
              "      <th></th>\n",
              "      <th></th>\n",
              "      <th></th>\n",
              "      <th></th>\n",
              "      <th></th>\n",
              "      <th></th>\n",
              "      <th></th>\n",
              "      <th></th>\n",
              "      <th></th>\n",
              "      <th></th>\n",
              "      <th></th>\n",
              "    </tr>\n",
              "  </thead>\n",
              "  <tbody>\n",
              "    <tr>\n",
              "      <th>Brazil</th>\n",
              "      <td>211</td>\n",
              "      <td>220</td>\n",
              "      <td>192</td>\n",
              "      <td>139</td>\n",
              "      <td>145</td>\n",
              "      <td>130</td>\n",
              "      <td>205</td>\n",
              "      <td>244</td>\n",
              "      <td>394</td>\n",
              "      <td>650</td>\n",
              "      <td>650</td>\n",
              "      <td>877</td>\n",
              "      <td>1066</td>\n",
              "      <td>866</td>\n",
              "      <td>566</td>\n",
              "      <td>572</td>\n",
              "      <td>586</td>\n",
              "      <td>591</td>\n",
              "      <td>531</td>\n",
              "      <td>626</td>\n",
              "      <td>845</td>\n",
              "      <td>847</td>\n",
              "      <td>745</td>\n",
              "      <td>839</td>\n",
              "      <td>917</td>\n",
              "      <td>969</td>\n",
              "      <td>1181</td>\n",
              "      <td>1746</td>\n",
              "      <td>2138</td>\n",
              "      <td>2509</td>\n",
              "      <td>2598</td>\n",
              "      <td>1508</td>\n",
              "      <td>1642</td>\n",
              "      <td>1714</td>\n",
              "    </tr>\n",
              "    <tr>\n",
              "      <th>Argentina</th>\n",
              "      <td>368</td>\n",
              "      <td>426</td>\n",
              "      <td>626</td>\n",
              "      <td>241</td>\n",
              "      <td>237</td>\n",
              "      <td>196</td>\n",
              "      <td>213</td>\n",
              "      <td>519</td>\n",
              "      <td>374</td>\n",
              "      <td>538</td>\n",
              "      <td>678</td>\n",
              "      <td>763</td>\n",
              "      <td>1023</td>\n",
              "      <td>1022</td>\n",
              "      <td>366</td>\n",
              "      <td>380</td>\n",
              "      <td>396</td>\n",
              "      <td>391</td>\n",
              "      <td>349</td>\n",
              "      <td>318</td>\n",
              "      <td>427</td>\n",
              "      <td>635</td>\n",
              "      <td>865</td>\n",
              "      <td>1745</td>\n",
              "      <td>1591</td>\n",
              "      <td>1153</td>\n",
              "      <td>847</td>\n",
              "      <td>620</td>\n",
              "      <td>540</td>\n",
              "      <td>467</td>\n",
              "      <td>459</td>\n",
              "      <td>278</td>\n",
              "      <td>263</td>\n",
              "      <td>282</td>\n",
              "    </tr>\n",
              "    <tr>\n",
              "      <th>Mexico</th>\n",
              "      <td>409</td>\n",
              "      <td>394</td>\n",
              "      <td>491</td>\n",
              "      <td>490</td>\n",
              "      <td>509</td>\n",
              "      <td>425</td>\n",
              "      <td>667</td>\n",
              "      <td>813</td>\n",
              "      <td>916</td>\n",
              "      <td>1017</td>\n",
              "      <td>1193</td>\n",
              "      <td>1134</td>\n",
              "      <td>1189</td>\n",
              "      <td>1139</td>\n",
              "      <td>776</td>\n",
              "      <td>758</td>\n",
              "      <td>1234</td>\n",
              "      <td>1689</td>\n",
              "      <td>1379</td>\n",
              "      <td>1679</td>\n",
              "      <td>1662</td>\n",
              "      <td>1939</td>\n",
              "      <td>1894</td>\n",
              "      <td>1754</td>\n",
              "      <td>2259</td>\n",
              "      <td>2837</td>\n",
              "      <td>2844</td>\n",
              "      <td>3239</td>\n",
              "      <td>2856</td>\n",
              "      <td>3092</td>\n",
              "      <td>3865</td>\n",
              "      <td>3947</td>\n",
              "      <td>4227</td>\n",
              "      <td>3996</td>\n",
              "    </tr>\n",
              "  </tbody>\n",
              "</table>\n",
              "</div>"
            ],
            "text/plain": [
              "           1980  1981  1982  1983  1984  ...  2009  2010  2011  2012  2013\n",
              "Pais                                     ...                              \n",
              "Brazil      211   220   192   139   145  ...  2509  2598  1508  1642  1714\n",
              "Argentina   368   426   626   241   237  ...   467   459   278   263   282\n",
              "Mexico      409   394   491   490   509  ...  3092  3865  3947  4227  3996\n",
              "\n",
              "[3 rows x 34 columns]"
            ]
          },
          "metadata": {},
          "execution_count": 21
        }
      ]
    },
    {
      "cell_type": "markdown",
      "metadata": {
        "id": "0MpNPnikibbf"
      },
      "source": [
        "**ATENÇÃO**: Pandas plota os índices no eixo x e as colunas no eixo y. No exemplo acima o dataframe com tem os países no eixo x (linhas) e anos no eixo y (colunas). Por isso é  utilizar o método **transpose ()** para trocar as linha e colunas."
      ]
    },
    {
      "cell_type": "code",
      "metadata": {
        "colab": {
          "base_uri": "https://localhost:8080/",
          "height": 206
        },
        "id": "b4bx7bEQ2AD-",
        "outputId": "5b3dfec3-8465-4727-a50c-7c8f609d79ff"
      },
      "source": [
        "# Trocar as linhas e colunas\n",
        "df_brasil_argentina_mexico = df_brasil_argentina_mexico.transpose()\n",
        "df_brasil_argentina_mexico.head()"
      ],
      "execution_count": 22,
      "outputs": [
        {
          "output_type": "execute_result",
          "data": {
            "text/html": [
              "<div>\n",
              "<style scoped>\n",
              "    .dataframe tbody tr th:only-of-type {\n",
              "        vertical-align: middle;\n",
              "    }\n",
              "\n",
              "    .dataframe tbody tr th {\n",
              "        vertical-align: top;\n",
              "    }\n",
              "\n",
              "    .dataframe thead th {\n",
              "        text-align: right;\n",
              "    }\n",
              "</style>\n",
              "<table border=\"1\" class=\"dataframe\">\n",
              "  <thead>\n",
              "    <tr style=\"text-align: right;\">\n",
              "      <th>Pais</th>\n",
              "      <th>Brazil</th>\n",
              "      <th>Argentina</th>\n",
              "      <th>Mexico</th>\n",
              "    </tr>\n",
              "  </thead>\n",
              "  <tbody>\n",
              "    <tr>\n",
              "      <th>1980</th>\n",
              "      <td>211</td>\n",
              "      <td>368</td>\n",
              "      <td>409</td>\n",
              "    </tr>\n",
              "    <tr>\n",
              "      <th>1981</th>\n",
              "      <td>220</td>\n",
              "      <td>426</td>\n",
              "      <td>394</td>\n",
              "    </tr>\n",
              "    <tr>\n",
              "      <th>1982</th>\n",
              "      <td>192</td>\n",
              "      <td>626</td>\n",
              "      <td>491</td>\n",
              "    </tr>\n",
              "    <tr>\n",
              "      <th>1983</th>\n",
              "      <td>139</td>\n",
              "      <td>241</td>\n",
              "      <td>490</td>\n",
              "    </tr>\n",
              "    <tr>\n",
              "      <th>1984</th>\n",
              "      <td>145</td>\n",
              "      <td>237</td>\n",
              "      <td>509</td>\n",
              "    </tr>\n",
              "  </tbody>\n",
              "</table>\n",
              "</div>"
            ],
            "text/plain": [
              "Pais  Brazil  Argentina  Mexico\n",
              "1980     211        368     409\n",
              "1981     220        426     394\n",
              "1982     192        626     491\n",
              "1983     139        241     490\n",
              "1984     145        237     509"
            ]
          },
          "metadata": {},
          "execution_count": 22
        }
      ]
    },
    {
      "cell_type": "code",
      "metadata": {
        "colab": {
          "base_uri": "https://localhost:8080/",
          "height": 350
        },
        "id": "YhH-XUng2Ppb",
        "outputId": "fbfed42b-5678-4036-f70f-b28c3af61607"
      },
      "source": [
        "# Gráfico de linha com os dados do Brasil, Argentina e México\n",
        "df_brasil_argentina_mexico.index = df_brasil_argentina_mexico.index.map(int) \n",
        "df_brasil_argentina_mexico.plot(kind='line', figsize=(10, 5))\n",
        "plt.title('Imigração do Brasil, Argentina e México para o Canadá')\n",
        "plt.ylabel('Número de Imigrantes')\n",
        "plt.xlabel('Anos')\n",
        "\n",
        "plt.show() # precisa desta linha para mostrar as atualizações feitas na figura"
      ],
      "execution_count": 23,
      "outputs": [
        {
          "output_type": "display_data",
          "data": {
            "image/png": "[encoded data removed]",
            "text/plain": [
              "<Figure size 720x360 with 1 Axes>"
            ]
          },
          "metadata": {
            "needs_background": "light"
          }
        }
      ]
    },
    {
      "cell_type": "markdown",
      "metadata": {
        "id": "odSwsSX43FbX"
      },
      "source": [
        "**ATENÇÃO**: o gráfico de linha é uma ferramenta útil para exibir várias variáveis dependentes em relação a uma variável independente. No entanto, é recomendado que não sejam mais do que 5 em um único gráfico, mais do que isso e torna-se difícil a visualização e interpretação."
      ]
    },
    {
      "cell_type": "markdown",
      "metadata": {
        "id": "N4j5oC5d3vK0"
      },
      "source": [
        "<h3> Gráfico de Area</h3>"
      ]
    },
    {
      "cell_type": "markdown",
      "metadata": {
        "id": "bgyF38ga3-ZK"
      },
      "source": [
        "No exemplo acima criamos um gráfico de linha. Com uma pequena modificação no código, pode-se visualizá-la como um **Gráfico de área**"
      ]
    },
    {
      "cell_type": "code",
      "metadata": {
        "colab": {
          "base_uri": "https://localhost:8080/",
          "height": 350
        },
        "id": "YAqqXn9Z25L4",
        "outputId": "d1d7eb48-bba3-4d4f-93fd-a45c23361a6a"
      },
      "source": [
        "# Gráfico de área com os dados do Brasil, Argentina e México\n",
        "df_brasil_argentina_mexico.plot(kind='area', \n",
        "             alpha=0.35, # Indica a transparência e varia de 0 a 1, valor padrão 0.5\n",
        "             stacked=False,\n",
        "             figsize=(10, 5), #para ajustar o tamanho do gráfico passar a tupla (x, y)\n",
        "             )\n",
        "\n",
        "plt.title('Imigração do Brasil, Argentina e México para o Canadá')\n",
        "plt.ylabel('Número de imigrantes')\n",
        "plt.xlabel('Anos')\n",
        "\n",
        "plt.show()"
      ],
      "execution_count": 24,
      "outputs": [
        {
          "output_type": "display_data",
          "data": {
            "image/png": "[encoded data removed]",
            "text/plain": [
              "<Figure size 720x360 with 1 Axes>"
            ]
          },
          "metadata": {
            "needs_background": "light"
          }
        }
      ]
    },
    {
      "cell_type": "markdown",
      "metadata": {
        "id": "evI0SNrUeNIF"
      },
      "source": [
        "<h3> Gráfico de Barra</h3>"
      ]
    },
    {
      "cell_type": "markdown",
      "metadata": {
        "id": "uaNW226eeIUF"
      },
      "source": [
        "Um gráfico de barra é uma forma de representar dados onde o *comprimento* das barras representa o tamanho da variável. Os gráficos de barras geralmente representam variáveis numéricas e categóricas agrupadas em intervalos.\n",
        "\n",
        "Para criar um gráfico de barra, pode-se passar um de dois argumentos por meio do parâmetro `kind` em` plot () `:\n",
        "\n",
        "* **kind = bar** cria um gráfico de barra * vertical *\n",
        "* **kind = barh** cria um gráfico de barra * horizontal *"
      ]
    },
    {
      "cell_type": "code",
      "metadata": {
        "colab": {
          "base_uri": "https://localhost:8080/",
          "height": 420
        },
        "id": "ZE8Y39WZesCG",
        "outputId": "4d34cebc-6f90-4202-d505-3d6ee7e00fde"
      },
      "source": [
        "# Gráfico de barra vertical com os dados do Brasil\n",
        "brazil.plot(kind='bar', figsize=(12, 6), rot=90)\n",
        "plt.title('Imigração do Brasil para o Canadá')\n",
        "plt.ylabel('Número de Imigrantes')\n",
        "plt.xlabel('Anos') \n",
        "\n",
        "plt.show()"
      ],
      "execution_count": 25,
      "outputs": [
        {
          "output_type": "display_data",
          "data": {
            "image/png": "[encoded data removed]",
            "text/plain": [
              "<Figure size 864x432 with 1 Axes>"
            ]
          },
          "metadata": {
            "needs_background": "light"
          }
        }
      ]
    },
    {
      "cell_type": "code",
      "metadata": {
        "colab": {
          "base_uri": "https://localhost:8080/"
        },
        "id": "RGh2Ov_6gVv8",
        "outputId": "c0f66f31-e7b4-47e9-e8a3-f3bd3dd24146"
      },
      "source": [
        "# Ordenar e agrupar os 10 países que mais imigraram para o Canadá\n",
        "df_canada.sort_values(by='Total', ascending=True, inplace=True)\n",
        "df_canada_top10 = df_canada['Total'].tail(10)\n",
        "df_canada_top10"
      ],
      "execution_count": 26,
      "outputs": [
        {
          "output_type": "execute_result",
          "data": {
            "text/plain": [
              "Pais\n",
              "Poland                                                  139241\n",
              "Republic of Korea                                       142581\n",
              "Sri Lanka                                               148358\n",
              "Iran (Islamic Republic of)                              175923\n",
              "United States of America                                241122\n",
              "Pakistan                                                241600\n",
              "Philippines                                             511391\n",
              "United Kingdom of Great Britain and Northern Ireland    551500\n",
              "China                                                   659962\n",
              "India                                                   691904\n",
              "Name: Total, dtype: int64"
            ]
          },
          "metadata": {},
          "execution_count": 26
        }
      ]
    },
    {
      "cell_type": "code",
      "metadata": {
        "colab": {
          "base_uri": "https://localhost:8080/",
          "height": 405
        },
        "id": "MTA_VIk8glYw",
        "outputId": "b5a3059e-793c-4be4-91c1-359b3ac74cb2"
      },
      "source": [
        "# Gráfico de barra horizontal com os dados dos 10 países que mais imigraram para o Canadá\n",
        "df_canada_top10.plot(kind='barh', figsize=(12, 6), color='steelblue')\n",
        "plt.xlabel('Número de Imigrantes')\n",
        "plt.title('Os 10 países que mais contribuíram para a imigração no Canadá entre 1980 - 2013')\n",
        "\n",
        "for index, value in enumerate(df_canada_top10): \n",
        "    label = format(int(value), ',') \n",
        "    plt.annotate(label, xy=(value - 47000, index - 0.10), color='black')\n",
        "\n",
        "plt.show()"
      ],
      "execution_count": 27,
      "outputs": [
        {
          "output_type": "display_data",
          "data": {
            "image/png": "[encoded data removed]",
            "text/plain": [
              "<Figure size 864x432 with 1 Axes>"
            ]
          },
          "metadata": {
            "needs_background": "light"
          }
        }
      ]
    },
    {
      "cell_type": "markdown",
      "metadata": {
        "id": "-ZXmc_fLi0Gq"
      },
      "source": [
        "<h3> Gráfico de Pizza</h3>"
      ]
    },
    {
      "cell_type": "markdown",
      "metadata": {
        "id": "4PuuWC6xi2H6"
      },
      "source": [
        "Um gráfico de pizza é um gráfico circular que exibe proporções numéricas dividindo um círculo (pizza) em fatias proporcionais. Provavelmente, você já esteja familiarizado com os gráficos de pizza, pois eles são bastante utilizados. \n",
        "\n",
        "Como exemplo será criado um gráfico de pizza para explorar a proporção de novos imigrantes agrupados por continentes de 1980 a 2013."
      ]
    },
    {
      "cell_type": "code",
      "metadata": {
        "colab": {
          "base_uri": "https://localhost:8080/",
          "height": 327
        },
        "id": "qWCNpDUZjGVe",
        "outputId": "d7992fb0-6a52-4022-c6ed-f68f882543a6"
      },
      "source": [
        "# Agrupar países por continentes e aplicar a função sum ()\n",
        "df_continentes = df_canada.groupby('Continente', axis=0).sum()\n",
        "\n",
        "df_continentes.head()"
      ],
      "execution_count": 28,
      "outputs": [
        {
          "output_type": "execute_result",
          "data": {
            "text/html": [
              "<div>\n",
              "<style scoped>\n",
              "    .dataframe tbody tr th:only-of-type {\n",
              "        vertical-align: middle;\n",
              "    }\n",
              "\n",
              "    .dataframe tbody tr th {\n",
              "        vertical-align: top;\n",
              "    }\n",
              "\n",
              "    .dataframe thead th {\n",
              "        text-align: right;\n",
              "    }\n",
              "</style>\n",
              "<table border=\"1\" class=\"dataframe\">\n",
              "  <thead>\n",
              "    <tr style=\"text-align: right;\">\n",
              "      <th></th>\n",
              "      <th>1980</th>\n",
              "      <th>1981</th>\n",
              "      <th>1982</th>\n",
              "      <th>1983</th>\n",
              "      <th>1984</th>\n",
              "      <th>1985</th>\n",
              "      <th>1986</th>\n",
              "      <th>1987</th>\n",
              "      <th>1988</th>\n",
              "      <th>1989</th>\n",
              "      <th>1990</th>\n",
              "      <th>1991</th>\n",
              "      <th>1992</th>\n",
              "      <th>1993</th>\n",
              "      <th>1994</th>\n",
              "      <th>1995</th>\n",
              "      <th>1996</th>\n",
              "      <th>1997</th>\n",
              "      <th>1998</th>\n",
              "      <th>1999</th>\n",
              "      <th>2000</th>\n",
              "      <th>2001</th>\n",
              "      <th>2002</th>\n",
              "      <th>2003</th>\n",
              "      <th>2004</th>\n",
              "      <th>2005</th>\n",
              "      <th>2006</th>\n",
              "      <th>2007</th>\n",
              "      <th>2008</th>\n",
              "      <th>2009</th>\n",
              "      <th>2010</th>\n",
              "      <th>2011</th>\n",
              "      <th>2012</th>\n",
              "      <th>2013</th>\n",
              "      <th>Total</th>\n",
              "    </tr>\n",
              "    <tr>\n",
              "      <th>Continente</th>\n",
              "      <th></th>\n",
              "      <th></th>\n",
              "      <th></th>\n",
              "      <th></th>\n",
              "      <th></th>\n",
              "      <th></th>\n",
              "      <th></th>\n",
              "      <th></th>\n",
              "      <th></th>\n",
              "      <th></th>\n",
              "      <th></th>\n",
              "      <th></th>\n",
              "      <th></th>\n",
              "      <th></th>\n",
              "      <th></th>\n",
              "      <th></th>\n",
              "      <th></th>\n",
              "      <th></th>\n",
              "      <th></th>\n",
              "      <th></th>\n",
              "      <th></th>\n",
              "      <th></th>\n",
              "      <th></th>\n",
              "      <th></th>\n",
              "      <th></th>\n",
              "      <th></th>\n",
              "      <th></th>\n",
              "      <th></th>\n",
              "      <th></th>\n",
              "      <th></th>\n",
              "      <th></th>\n",
              "      <th></th>\n",
              "      <th></th>\n",
              "      <th></th>\n",
              "      <th></th>\n",
              "    </tr>\n",
              "  </thead>\n",
              "  <tbody>\n",
              "    <tr>\n",
              "      <th>Africa</th>\n",
              "      <td>3951</td>\n",
              "      <td>4363</td>\n",
              "      <td>3819</td>\n",
              "      <td>2671</td>\n",
              "      <td>2639</td>\n",
              "      <td>2650</td>\n",
              "      <td>3782</td>\n",
              "      <td>7494</td>\n",
              "      <td>7552</td>\n",
              "      <td>9894</td>\n",
              "      <td>11012</td>\n",
              "      <td>14228</td>\n",
              "      <td>19242</td>\n",
              "      <td>16531</td>\n",
              "      <td>13072</td>\n",
              "      <td>14806</td>\n",
              "      <td>15700</td>\n",
              "      <td>14471</td>\n",
              "      <td>13791</td>\n",
              "      <td>15996</td>\n",
              "      <td>20346</td>\n",
              "      <td>24292</td>\n",
              "      <td>22710</td>\n",
              "      <td>23366</td>\n",
              "      <td>28192</td>\n",
              "      <td>27523</td>\n",
              "      <td>29188</td>\n",
              "      <td>28284</td>\n",
              "      <td>29890</td>\n",
              "      <td>34534</td>\n",
              "      <td>40892</td>\n",
              "      <td>35441</td>\n",
              "      <td>38083</td>\n",
              "      <td>38543</td>\n",
              "      <td>618948</td>\n",
              "    </tr>\n",
              "    <tr>\n",
              "      <th>Asia</th>\n",
              "      <td>31025</td>\n",
              "      <td>34314</td>\n",
              "      <td>30214</td>\n",
              "      <td>24696</td>\n",
              "      <td>27274</td>\n",
              "      <td>23850</td>\n",
              "      <td>28739</td>\n",
              "      <td>43203</td>\n",
              "      <td>47454</td>\n",
              "      <td>60256</td>\n",
              "      <td>72829</td>\n",
              "      <td>89964</td>\n",
              "      <td>90752</td>\n",
              "      <td>98737</td>\n",
              "      <td>88852</td>\n",
              "      <td>90424</td>\n",
              "      <td>103030</td>\n",
              "      <td>106383</td>\n",
              "      <td>90929</td>\n",
              "      <td>106844</td>\n",
              "      <td>134544</td>\n",
              "      <td>148083</td>\n",
              "      <td>137653</td>\n",
              "      <td>131769</td>\n",
              "      <td>134850</td>\n",
              "      <td>159253</td>\n",
              "      <td>149054</td>\n",
              "      <td>133459</td>\n",
              "      <td>139894</td>\n",
              "      <td>141434</td>\n",
              "      <td>163845</td>\n",
              "      <td>146894</td>\n",
              "      <td>152218</td>\n",
              "      <td>155075</td>\n",
              "      <td>3317794</td>\n",
              "    </tr>\n",
              "    <tr>\n",
              "      <th>Europe</th>\n",
              "      <td>39760</td>\n",
              "      <td>44802</td>\n",
              "      <td>42720</td>\n",
              "      <td>24638</td>\n",
              "      <td>22287</td>\n",
              "      <td>20844</td>\n",
              "      <td>24370</td>\n",
              "      <td>46698</td>\n",
              "      <td>54726</td>\n",
              "      <td>60893</td>\n",
              "      <td>68301</td>\n",
              "      <td>57938</td>\n",
              "      <td>64123</td>\n",
              "      <td>62937</td>\n",
              "      <td>62531</td>\n",
              "      <td>55764</td>\n",
              "      <td>55642</td>\n",
              "      <td>48841</td>\n",
              "      <td>36719</td>\n",
              "      <td>35639</td>\n",
              "      <td>38215</td>\n",
              "      <td>42779</td>\n",
              "      <td>36798</td>\n",
              "      <td>34556</td>\n",
              "      <td>38082</td>\n",
              "      <td>35955</td>\n",
              "      <td>33053</td>\n",
              "      <td>33495</td>\n",
              "      <td>34692</td>\n",
              "      <td>35078</td>\n",
              "      <td>33425</td>\n",
              "      <td>26778</td>\n",
              "      <td>29177</td>\n",
              "      <td>28691</td>\n",
              "      <td>1410947</td>\n",
              "    </tr>\n",
              "    <tr>\n",
              "      <th>Latin America and the Caribbean</th>\n",
              "      <td>13081</td>\n",
              "      <td>15215</td>\n",
              "      <td>16769</td>\n",
              "      <td>15427</td>\n",
              "      <td>13678</td>\n",
              "      <td>15171</td>\n",
              "      <td>21179</td>\n",
              "      <td>28471</td>\n",
              "      <td>21924</td>\n",
              "      <td>25060</td>\n",
              "      <td>27942</td>\n",
              "      <td>36827</td>\n",
              "      <td>37853</td>\n",
              "      <td>33840</td>\n",
              "      <td>21341</td>\n",
              "      <td>20262</td>\n",
              "      <td>18645</td>\n",
              "      <td>17174</td>\n",
              "      <td>13830</td>\n",
              "      <td>15088</td>\n",
              "      <td>16898</td>\n",
              "      <td>20067</td>\n",
              "      <td>19317</td>\n",
              "      <td>20263</td>\n",
              "      <td>22181</td>\n",
              "      <td>24747</td>\n",
              "      <td>24676</td>\n",
              "      <td>26011</td>\n",
              "      <td>26547</td>\n",
              "      <td>26867</td>\n",
              "      <td>28818</td>\n",
              "      <td>27856</td>\n",
              "      <td>27173</td>\n",
              "      <td>24950</td>\n",
              "      <td>765148</td>\n",
              "    </tr>\n",
              "    <tr>\n",
              "      <th>Northern America</th>\n",
              "      <td>9378</td>\n",
              "      <td>10030</td>\n",
              "      <td>9074</td>\n",
              "      <td>7100</td>\n",
              "      <td>6661</td>\n",
              "      <td>6543</td>\n",
              "      <td>7074</td>\n",
              "      <td>7705</td>\n",
              "      <td>6469</td>\n",
              "      <td>6790</td>\n",
              "      <td>5895</td>\n",
              "      <td>6057</td>\n",
              "      <td>6846</td>\n",
              "      <td>7438</td>\n",
              "      <td>5902</td>\n",
              "      <td>4891</td>\n",
              "      <td>5516</td>\n",
              "      <td>4753</td>\n",
              "      <td>4437</td>\n",
              "      <td>5196</td>\n",
              "      <td>5433</td>\n",
              "      <td>5604</td>\n",
              "      <td>4948</td>\n",
              "      <td>5543</td>\n",
              "      <td>6990</td>\n",
              "      <td>8394</td>\n",
              "      <td>9613</td>\n",
              "      <td>9463</td>\n",
              "      <td>10190</td>\n",
              "      <td>8995</td>\n",
              "      <td>8142</td>\n",
              "      <td>7677</td>\n",
              "      <td>7892</td>\n",
              "      <td>8503</td>\n",
              "      <td>241142</td>\n",
              "    </tr>\n",
              "  </tbody>\n",
              "</table>\n",
              "</div>"
            ],
            "text/plain": [
              "                                  1980   1981   1982  ...    2012    2013    Total\n",
              "Continente                                            ...                         \n",
              "Africa                            3951   4363   3819  ...   38083   38543   618948\n",
              "Asia                             31025  34314  30214  ...  152218  155075  3317794\n",
              "Europe                           39760  44802  42720  ...   29177   28691  1410947\n",
              "Latin America and the Caribbean  13081  15215  16769  ...   27173   24950   765148\n",
              "Northern America                  9378  10030   9074  ...    7892    8503   241142\n",
              "\n",
              "[5 rows x 35 columns]"
            ]
          },
          "metadata": {},
          "execution_count": 28
        }
      ]
    },
    {
      "cell_type": "code",
      "metadata": {
        "colab": {
          "base_uri": "https://localhost:8080/",
          "height": 373
        },
        "id": "UJVcMRsTjZCE",
        "outputId": "022ca947-7c26-46bb-894a-dfb1abbd778f"
      },
      "source": [
        "# Gráfico de pizza com os dados dos 10 países que mais imigraram para o Canadá\n",
        "df_continentes['Total'].plot(kind='pie', \n",
        "                            figsize=(5, 6), #tamanho do gráfico\n",
        "                            autopct='%1.1f%%',#mostra em percentagem\n",
        "                            startangle=90, #ângulo inicial 90°\n",
        "                            shadow=True, #adiciona sombra \n",
        "                            colors=['deeppink', 'orchid', 'palevioletred', 'thistle', 'pink', 'plum']    \n",
        "                            )\n",
        "\n",
        "plt.title('Imigração do Canadá por Continentes de 1980 a 2013')\n",
        "plt.axis('equal') #configura o gráfico de pizza para se parecer com um círculo.\n",
        "\n",
        "plt.show()"
      ],
      "execution_count": 29,
      "outputs": [
        {
          "output_type": "display_data",
          "data": {
            "image/png": "[encoded data removed]",
            "text/plain": [
              "<Figure size 360x432 with 1 Axes>"
            ]
          },
          "metadata": {}
        }
      ]
    },
    {
      "cell_type": "code",
      "metadata": {
        "colab": {
          "base_uri": "https://localhost:8080/",
          "height": 412
        },
        "id": "aVST7XkNlP36",
        "outputId": "56f4b429-ce4b-41d4-e89b-1d93cf2da738"
      },
      "source": [
        "# Gráfico de pizza com os dados dos 10 países que mais imigraram para o Canadá\n",
        "explode_lista = [0, 0.1, 0, 0, 0, 0] \n",
        "\n",
        "df_continentes['Total'].plot(kind='pie',\n",
        "                            figsize=(15, 6), #tamanho do gráfico\n",
        "                            autopct='%1.1f%%', #mostra em percentagem\n",
        "                            startangle=90,  #ângulo inicial 90°   \n",
        "                            shadow=True, #adiciona sombra \n",
        "                            labels=None, #adiciona legendas nas fatias do gráfico\n",
        "                            colors=['deeppink', 'orchid', 'palevioletred', 'thistle', 'pink', 'plum'],                 \n",
        "                            pctdistance=1.12,            \n",
        "                            explode=explode_lista #separa as fatias do gráfico       \n",
        "                            )\n",
        "                            \n",
        "plt.title('Imigração para o Canadá por continente em 2013', y=1.12) \n",
        "plt.axis('equal') \n",
        "\n",
        "plt.legend(labels=df_continentes.index, loc='upper left') \n",
        "\n",
        "plt.show()"
      ],
      "execution_count": 30,
      "outputs": [
        {
          "output_type": "display_data",
          "data": {
            "image/png": "[encoded data removed]",
            "text/plain": [
              "<Figure size 1080x432 with 1 Axes>"
            ]
          },
          "metadata": {}
        }
      ]
    },
    {
      "cell_type": "markdown",
      "metadata": {
        "id": "dJk1Ql1BmUPZ"
      },
      "source": [
        "<h3>Subplots</h3>\n",
        "\n",
        "Freqüentemente, pode-se querer plotar vários gráficos dentro da mesma figura para realizar análise dos dados em vários formatos de gráficos.\n",
        "\n",
        "Para visualizar vários gráficos juntos, pode-se criar uma **`figura`** (tela geral) e dividi-lo em **`subplots`**, cada um contendo um gráfico. \n",
        "\n",
        "**ATENÇÃO**: com **subplots**, geralmente se trabalha com a camanda **Artist Layer** em vez da camada **Scripting Layer**.\n"
      ]
    },
    {
      "cell_type": "code",
      "metadata": {
        "colab": {
          "base_uri": "https://localhost:8080/",
          "height": 611
        },
        "id": "ccSD3db4vENh",
        "outputId": "a530a4ed-3ea1-46d4-fef4-7082680fa078"
      },
      "source": [
        "fig = plt.figure() #criação da figura\n",
        "ax1 = fig.add_subplot(2, 2, 1) #acrescentando subplot 1 (1 row, 2 columns, first plot)\n",
        "ax2 = fig.add_subplot(2, 2, 2) #acrescentando subplot 2 (1 row, 2 columns, second plot)\n",
        "ax3 = fig.add_subplot(2, 2, 3) #acrescentando subplot 2 (1 row, 2 columns, third plot)\n",
        "ax4 = fig.add_subplot(2, 2, 4) #acrescentando subplot 2 (1 row, 2 columns, third plot)\n",
        "\n",
        "# Subplot 1: Gráfico de Linha\n",
        "brazil.plot(kind='line', figsize=(20, 10), ax=ax1)\n",
        "\n",
        "ax1.set_title('Imigração do Brasil para o Canadá')\n",
        "ax1.set_ylabel('Número de Imigrantes')\n",
        "ax1.set_xlabel('Anos')\n",
        "\n",
        "# Subplot 2: Gráfico de Barra\n",
        "brazil.plot(kind='bar', figsize=(20, 10), rot=90, ax=ax2)\n",
        "ax2.set_title('Imigração do Brasil para o Canadá')\n",
        "ax2.set_ylabel('Número de Imigrantes')\n",
        "ax2.set_xlabel('Anos')\n",
        "\n",
        "# Subplot 3: Gráfico de Linha com trê variáveis\n",
        "df_brasil_argentina_mexico.plot(kind='line', figsize=(20, 10), ax=ax3)\n",
        "ax3.set_title('Imigração do Brasil, Argentina e México para o Canadá')\n",
        "ax3.set_ylabel('Número de Imigrantes')\n",
        "ax2.set_xlabel('Anos')\n",
        "\n",
        "# Subplot 4: Gráfico de Área com trê variáveis\n",
        "df_brasil_argentina_mexico.plot(kind='area', alpha=0.35, stacked=False, figsize=(20, 10), ax=ax4)\n",
        "ax4.set_title('Imigração do Brasil, Argentina e México para o Canadá')\n",
        "ax4.set_ylabel('Número de Imigrantes')\n",
        "ax4.set_xlabel('Anos')\n",
        "\n",
        "plt.show()"
      ],
      "execution_count": 31,
      "outputs": [
        {
          "output_type": "display_data",
          "data": {
            "image/png": "[encoded data removed]",
            "text/plain": [
              "<Figure size 1440x720 with 4 Axes>"
            ]
          },
          "metadata": {
            "needs_background": "light"
          }
        }
      ]
    },
    {
      "cell_type": "markdown",
      "metadata": {
        "id": "zoSv7M7lPN_H"
      },
      "source": [
        "<h3> Histograma</h3>"
      ]
    },
    {
      "cell_type": "markdown",
      "metadata": {
        "id": "qcSOf3XPPJHb"
      },
      "source": [
        "Um histograma é uma forma de representar a distribuição de *frequência* de um conjunto de dados numéricos. Para montar um histrograma deve-se particionar o eixo x em *compartimentos*, atribuir cada ponto de dados no conjunto de dados a um compartimento e, em seguida, contar o número de pontos de dados que foram atribuídos a cada compartimento. Portanto, o eixo y é a frequência ou o número de pontos de dados em cada compartimento. Observe que pode-se alterar o tamanho do compartimento e geralmente é necessário ajustá-lo para que a distribuição seja exibida bem."
      ]
    },
    {
      "cell_type": "markdown",
      "metadata": {
        "id": "pT6MoItzPot1"
      },
      "source": [
        "Pergunta: qual é a distribuição da imigração do Brasil, Argentina e Méxixo, para o Canadá, no anos de 1980 a 2013?"
      ]
    },
    {
      "cell_type": "code",
      "metadata": {
        "colab": {
          "base_uri": "https://localhost:8080/",
          "height": 405
        },
        "id": "8rIlwa3Tjd7X",
        "outputId": "d8357df7-3c38-4f20-e31c-1c7d031d9f05"
      },
      "source": [
        "# Histograma dos dados de imigração do Brasil para o Canadá\n",
        "brazil.plot(kind='hist', figsize=(10, 6), color=['darkseagreen'])\n",
        "\n",
        "plt.title('Histograma de imigração do Brasil para o Canadá, anos de 1980 a 2013')\n",
        "plt.ylabel('Frequência')\n",
        "plt.xlabel('Número de imigrantes')\n",
        "\n",
        "plt.show()"
      ],
      "execution_count": 32,
      "outputs": [
        {
          "output_type": "display_data",
          "data": {
            "image/png": "[encoded data removed]",
            "text/plain": [
              "<Figure size 720x432 with 1 Axes>"
            ]
          },
          "metadata": {
            "needs_background": "light"
          }
        }
      ]
    },
    {
      "cell_type": "code",
      "metadata": {
        "colab": {
          "base_uri": "https://localhost:8080/",
          "height": 405
        },
        "id": "K7C3nlstlAAJ",
        "outputId": "ff06feb1-e421-4aa4-f9ad-292bad993848"
      },
      "source": [
        "# Histograma dos dados de imigração da Argentina para o Canadá\n",
        "argentina.plot(kind='hist', figsize=(10, 6), color=['lightskyblue'])\n",
        "\n",
        "plt.title('Histograma de imigração da Argentina para o Canadá, anos de 1980 a 2013')\n",
        "plt.ylabel('Frequência')\n",
        "plt.xlabel('Número de imigrantes')\n",
        "\n",
        "plt.show()"
      ],
      "execution_count": 33,
      "outputs": [
        {
          "output_type": "display_data",
          "data": {
            "image/png": "[encoded data removed]",
            "text/plain": [
              "<Figure size 720x432 with 1 Axes>"
            ]
          },
          "metadata": {
            "needs_background": "light"
          }
        }
      ]
    },
    {
      "cell_type": "code",
      "metadata": {
        "colab": {
          "base_uri": "https://localhost:8080/",
          "height": 405
        },
        "id": "2WD2ZNsSlx66",
        "outputId": "af237a90-4b6e-49e7-ee15-9a78202a4565"
      },
      "source": [
        "# Histograma dos dados de imigração da México para o Canadá\n",
        "mexico.plot(kind='hist', figsize=(10, 6), color=['lightsalmon'])\n",
        "\n",
        "plt.title('Histograma de imigração da Argentina para o Canadá, anos de 1980 a 2013')\n",
        "plt.ylabel('Frequência')\n",
        "plt.xlabel('Número de imigrantes')\n",
        "\n",
        "plt.show()"
      ],
      "execution_count": 34,
      "outputs": [
        {
          "output_type": "display_data",
          "data": {
            "image/png": "[encoded data removed]",
            "text/plain": [
              "<Figure size 720x432 with 1 Axes>"
            ]
          },
          "metadata": {
            "needs_background": "light"
          }
        }
      ]
    },
    {
      "cell_type": "markdown",
      "metadata": {
        "id": "ukiB_fIIzeAu"
      },
      "source": [
        "<h3>Box Plots</h3>\n",
        "\n",
        "Um box plot é uma forma de representar estatisticamente a _distribuição_ dos dados por meio de cinco dimensões principais:\n",
        "\n",
        "- **Minimun:** menor número no conjunto de dados.\n",
        "- **First quartile:** número médio entre o `mínimo` e a` mediana`.\n",
        "- **Second quartile (Median):** úmero do meio do conjunto de dados (mediana).\n",
        "- **Third quartile:** número médio entre `mediana` e` máximo`.\n",
        "- **Maximum:** número mais alto no conjunto de dados."
      ]
    },
    {
      "cell_type": "markdown",
      "metadata": {
        "id": "YVSv9qdX0ii9"
      },
      "source": [
        "**Etapa 1**: obtenha o conjunto de dados. Mesmo que estejamos extraindo os dados de apenas um país, iremos obtê-los como um dataframe. Isso nos ajudará a chamar o método **dataframe.describe ()** para ver os percentis."
      ]
    },
    {
      "cell_type": "code",
      "metadata": {
        "colab": {
          "base_uri": "https://localhost:8080/",
          "height": 206
        },
        "id": "xWM-QEb5zgQH",
        "outputId": "8e7e2831-360d-46eb-a4c3-c03d29b389ae"
      },
      "source": [
        "# Para obter um dataframe, coloque colchetes extras em torno de 'France'\n",
        "df_franca = df_canada.loc[['France'], anos].transpose()\n",
        "df_franca.head()"
      ],
      "execution_count": 35,
      "outputs": [
        {
          "output_type": "execute_result",
          "data": {
            "text/html": [
              "<div>\n",
              "<style scoped>\n",
              "    .dataframe tbody tr th:only-of-type {\n",
              "        vertical-align: middle;\n",
              "    }\n",
              "\n",
              "    .dataframe tbody tr th {\n",
              "        vertical-align: top;\n",
              "    }\n",
              "\n",
              "    .dataframe thead th {\n",
              "        text-align: right;\n",
              "    }\n",
              "</style>\n",
              "<table border=\"1\" class=\"dataframe\">\n",
              "  <thead>\n",
              "    <tr style=\"text-align: right;\">\n",
              "      <th>Pais</th>\n",
              "      <th>France</th>\n",
              "    </tr>\n",
              "  </thead>\n",
              "  <tbody>\n",
              "    <tr>\n",
              "      <th>1980</th>\n",
              "      <td>1729</td>\n",
              "    </tr>\n",
              "    <tr>\n",
              "      <th>1981</th>\n",
              "      <td>2027</td>\n",
              "    </tr>\n",
              "    <tr>\n",
              "      <th>1982</th>\n",
              "      <td>2219</td>\n",
              "    </tr>\n",
              "    <tr>\n",
              "      <th>1983</th>\n",
              "      <td>1490</td>\n",
              "    </tr>\n",
              "    <tr>\n",
              "      <th>1984</th>\n",
              "      <td>1169</td>\n",
              "    </tr>\n",
              "  </tbody>\n",
              "</table>\n",
              "</div>"
            ],
            "text/plain": [
              "Pais  France\n",
              "1980    1729\n",
              "1981    2027\n",
              "1982    2219\n",
              "1983    1490\n",
              "1984    1169"
            ]
          },
          "metadata": {},
          "execution_count": 35
        }
      ]
    },
    {
      "cell_type": "markdown",
      "metadata": {
        "id": "_0J2hVLZ014w"
      },
      "source": [
        "**Etapa 2**: Plotar o gráfico passando `kind = 'box'`."
      ]
    },
    {
      "cell_type": "code",
      "metadata": {
        "colab": {
          "base_uri": "https://localhost:8080/",
          "height": 390
        },
        "id": "4zqtdoVB031E",
        "outputId": "2dbbe8a7-91a6-4e2b-8c20-4efe1319df17"
      },
      "source": [
        "# Box plot dos dados de imigração da França para o Canadá\n",
        "df_franca.plot(kind='box', figsize=(8, 6))\n",
        "\n",
        "plt.title('Box plot de imigração da França para o Canadá de 1980 a 2013')\n",
        "\n",
        "plt.show()"
      ],
      "execution_count": 36,
      "outputs": [
        {
          "output_type": "display_data",
          "data": {
            "image/png": "[encoded data removed]",
            "text/plain": [
              "<Figure size 576x432 with 1 Axes>"
            ]
          },
          "metadata": {
            "needs_background": "light"
          }
        }
      ]
    },
    {
      "cell_type": "markdown",
      "metadata": {
        "id": "Mxi2ebpb0-aN"
      },
      "source": [
        "Podemos fazer imediatamente algumas observações importantes a partir do gráfico acima:\n",
        "\n",
        "1. O número mínimo de imigrantes é um pouco acima de 1000 (minímo), o número máximo um pouco acima de 6000 (máximo) e o número médio de imigrantes é um pouco acima de 3000 (mediana).\n",
        "2. 25% dos anos para o período de 1980 a 2013 teve uma contagem anual de imigrantes de aproximadamente 2000 (primeiro quartil).\n",
        "3. 75% dos anos para o período de 1980 a 2013 teve uma contagem anual de imigrantes de aproximadamente 4000 (terceiro quartil).\n",
        "\n",
        "Podemos ver os números reais chamando o método **describe ()** no dataframe."
      ]
    },
    {
      "cell_type": "code",
      "metadata": {
        "colab": {
          "base_uri": "https://localhost:8080/",
          "height": 300
        },
        "id": "buBd5L7d1T2O",
        "outputId": "c2b5dcee-6f61-4fc3-d197-7bb579cfad28"
      },
      "source": [
        "df_franca.describe()"
      ],
      "execution_count": 37,
      "outputs": [
        {
          "output_type": "execute_result",
          "data": {
            "text/html": [
              "<div>\n",
              "<style scoped>\n",
              "    .dataframe tbody tr th:only-of-type {\n",
              "        vertical-align: middle;\n",
              "    }\n",
              "\n",
              "    .dataframe tbody tr th {\n",
              "        vertical-align: top;\n",
              "    }\n",
              "\n",
              "    .dataframe thead th {\n",
              "        text-align: right;\n",
              "    }\n",
              "</style>\n",
              "<table border=\"1\" class=\"dataframe\">\n",
              "  <thead>\n",
              "    <tr style=\"text-align: right;\">\n",
              "      <th>Pais</th>\n",
              "      <th>France</th>\n",
              "    </tr>\n",
              "  </thead>\n",
              "  <tbody>\n",
              "    <tr>\n",
              "      <th>count</th>\n",
              "      <td>34.000000</td>\n",
              "    </tr>\n",
              "    <tr>\n",
              "      <th>mean</th>\n",
              "      <td>3208.558824</td>\n",
              "    </tr>\n",
              "    <tr>\n",
              "      <th>std</th>\n",
              "      <td>1295.448026</td>\n",
              "    </tr>\n",
              "    <tr>\n",
              "      <th>min</th>\n",
              "      <td>1169.000000</td>\n",
              "    </tr>\n",
              "    <tr>\n",
              "      <th>25%</th>\n",
              "      <td>2187.500000</td>\n",
              "    </tr>\n",
              "    <tr>\n",
              "      <th>50%</th>\n",
              "      <td>3337.500000</td>\n",
              "    </tr>\n",
              "    <tr>\n",
              "      <th>75%</th>\n",
              "      <td>4060.500000</td>\n",
              "    </tr>\n",
              "    <tr>\n",
              "      <th>max</th>\n",
              "      <td>6280.000000</td>\n",
              "    </tr>\n",
              "  </tbody>\n",
              "</table>\n",
              "</div>"
            ],
            "text/plain": [
              "Pais        France\n",
              "count    34.000000\n",
              "mean   3208.558824\n",
              "std    1295.448026\n",
              "min    1169.000000\n",
              "25%    2187.500000\n",
              "50%    3337.500000\n",
              "75%    4060.500000\n",
              "max    6280.000000"
            ]
          },
          "metadata": {},
          "execution_count": 37
        }
      ]
    },
    {
      "cell_type": "markdown",
      "metadata": {
        "id": "OnjSqSC_1h4H"
      },
      "source": [
        "Um dos principais benefícios do box plot é comparar a distribuição de vários conjuntos de dados. \n",
        "\n",
        "Agora será comparada a distribuição do número de novos imigrantes da Índia e da China no período de 1980 a 2013."
      ]
    },
    {
      "cell_type": "markdown",
      "metadata": {
        "id": "0uiJy-oa_q7Y"
      },
      "source": [
        "Agora será comparada a distribuição do número de novos imigrantes do Brasil, Argentina e México no período de 1980 a 2013."
      ]
    },
    {
      "cell_type": "code",
      "metadata": {
        "colab": {
          "base_uri": "https://localhost:8080/",
          "height": 206
        },
        "id": "lq2sW5G1_3x-",
        "outputId": "35416412-934d-4132-9fcf-29cf4c74b978"
      },
      "source": [
        "df_brasil_argentina_mexico.head()"
      ],
      "execution_count": 38,
      "outputs": [
        {
          "output_type": "execute_result",
          "data": {
            "text/html": [
              "<div>\n",
              "<style scoped>\n",
              "    .dataframe tbody tr th:only-of-type {\n",
              "        vertical-align: middle;\n",
              "    }\n",
              "\n",
              "    .dataframe tbody tr th {\n",
              "        vertical-align: top;\n",
              "    }\n",
              "\n",
              "    .dataframe thead th {\n",
              "        text-align: right;\n",
              "    }\n",
              "</style>\n",
              "<table border=\"1\" class=\"dataframe\">\n",
              "  <thead>\n",
              "    <tr style=\"text-align: right;\">\n",
              "      <th>Pais</th>\n",
              "      <th>Brazil</th>\n",
              "      <th>Argentina</th>\n",
              "      <th>Mexico</th>\n",
              "    </tr>\n",
              "  </thead>\n",
              "  <tbody>\n",
              "    <tr>\n",
              "      <th>1980</th>\n",
              "      <td>211</td>\n",
              "      <td>368</td>\n",
              "      <td>409</td>\n",
              "    </tr>\n",
              "    <tr>\n",
              "      <th>1981</th>\n",
              "      <td>220</td>\n",
              "      <td>426</td>\n",
              "      <td>394</td>\n",
              "    </tr>\n",
              "    <tr>\n",
              "      <th>1982</th>\n",
              "      <td>192</td>\n",
              "      <td>626</td>\n",
              "      <td>491</td>\n",
              "    </tr>\n",
              "    <tr>\n",
              "      <th>1983</th>\n",
              "      <td>139</td>\n",
              "      <td>241</td>\n",
              "      <td>490</td>\n",
              "    </tr>\n",
              "    <tr>\n",
              "      <th>1984</th>\n",
              "      <td>145</td>\n",
              "      <td>237</td>\n",
              "      <td>509</td>\n",
              "    </tr>\n",
              "  </tbody>\n",
              "</table>\n",
              "</div>"
            ],
            "text/plain": [
              "Pais  Brazil  Argentina  Mexico\n",
              "1980     211        368     409\n",
              "1981     220        426     394\n",
              "1982     192        626     491\n",
              "1983     139        241     490\n",
              "1984     145        237     509"
            ]
          },
          "metadata": {},
          "execution_count": 38
        }
      ]
    },
    {
      "cell_type": "code",
      "metadata": {
        "colab": {
          "base_uri": "https://localhost:8080/",
          "height": 444
        },
        "id": "iCPYIhmDBKI3",
        "outputId": "e9cd6506-b410-4b7e-b1be-c713c2f4e9d4"
      },
      "source": [
        "# Box plot de imigração do Brasil, Argentina e México para o Canadá de 1980 a 2013\n",
        "df_brasil_argentina_mexico.plot(kind='box', figsize=(10, 7))\n",
        "\n",
        "plt.title('Box plot de imigração do Brasil, Argentina e México para o Canadá de 1980 a 2013')\n",
        "\n",
        "plt.show()"
      ],
      "execution_count": 39,
      "outputs": [
        {
          "output_type": "display_data",
          "data": {
            "image/png": "[encoded data removed]",
            "text/plain": [
              "<Figure size 720x504 with 1 Axes>"
            ]
          },
          "metadata": {
            "needs_background": "light"
          }
        }
      ]
    },
    {
      "cell_type": "code",
      "metadata": {
        "colab": {
          "base_uri": "https://localhost:8080/",
          "height": 300
        },
        "id": "Xd_KKBI3AOQa",
        "outputId": "01bd46b8-de14-4161-c456-3b99ead763bd"
      },
      "source": [
        "df_brasil_argentina_mexico.describe()"
      ],
      "execution_count": 40,
      "outputs": [
        {
          "output_type": "execute_result",
          "data": {
            "text/html": [
              "<div>\n",
              "<style scoped>\n",
              "    .dataframe tbody tr th:only-of-type {\n",
              "        vertical-align: middle;\n",
              "    }\n",
              "\n",
              "    .dataframe tbody tr th {\n",
              "        vertical-align: top;\n",
              "    }\n",
              "\n",
              "    .dataframe thead th {\n",
              "        text-align: right;\n",
              "    }\n",
              "</style>\n",
              "<table border=\"1\" class=\"dataframe\">\n",
              "  <thead>\n",
              "    <tr style=\"text-align: right;\">\n",
              "      <th>Pais</th>\n",
              "      <th>Brazil</th>\n",
              "      <th>Argentina</th>\n",
              "      <th>Mexico</th>\n",
              "    </tr>\n",
              "  </thead>\n",
              "  <tbody>\n",
              "    <tr>\n",
              "      <th>count</th>\n",
              "      <td>34.000000</td>\n",
              "      <td>34.000000</td>\n",
              "      <td>34.000000</td>\n",
              "    </tr>\n",
              "    <tr>\n",
              "      <th>mean</th>\n",
              "      <td>872.323529</td>\n",
              "      <td>576.352941</td>\n",
              "      <td>1726.823529</td>\n",
              "    </tr>\n",
              "    <tr>\n",
              "      <th>std</th>\n",
              "      <td>663.401232</td>\n",
              "      <td>371.025351</td>\n",
              "      <td>1174.438524</td>\n",
              "    </tr>\n",
              "    <tr>\n",
              "      <th>min</th>\n",
              "      <td>130.000000</td>\n",
              "      <td>196.000000</td>\n",
              "      <td>394.000000</td>\n",
              "    </tr>\n",
              "    <tr>\n",
              "      <th>25%</th>\n",
              "      <td>428.250000</td>\n",
              "      <td>353.250000</td>\n",
              "      <td>785.250000</td>\n",
              "    </tr>\n",
              "    <tr>\n",
              "      <th>50%</th>\n",
              "      <td>697.500000</td>\n",
              "      <td>443.000000</td>\n",
              "      <td>1306.500000</td>\n",
              "    </tr>\n",
              "    <tr>\n",
              "      <th>75%</th>\n",
              "      <td>1041.750000</td>\n",
              "      <td>667.250000</td>\n",
              "      <td>2692.500000</td>\n",
              "    </tr>\n",
              "    <tr>\n",
              "      <th>max</th>\n",
              "      <td>2598.000000</td>\n",
              "      <td>1745.000000</td>\n",
              "      <td>4227.000000</td>\n",
              "    </tr>\n",
              "  </tbody>\n",
              "</table>\n",
              "</div>"
            ],
            "text/plain": [
              "Pais        Brazil    Argentina       Mexico\n",
              "count    34.000000    34.000000    34.000000\n",
              "mean    872.323529   576.352941  1726.823529\n",
              "std     663.401232   371.025351  1174.438524\n",
              "min     130.000000   196.000000   394.000000\n",
              "25%     428.250000   353.250000   785.250000\n",
              "50%     697.500000   443.000000  1306.500000\n",
              "75%    1041.750000   667.250000  2692.500000\n",
              "max    2598.000000  1745.000000  4227.000000"
            ]
          },
          "metadata": {},
          "execution_count": 40
        }
      ]
    },
    {
      "cell_type": "markdown",
      "metadata": {
        "id": "aOaoqyDkCuiy"
      },
      "source": [
        "Observe como o box plot difere da tabela de resumo criada. O box plot examina os dados e identifica os outliers. Para ser um outlier, o valor dos dados deve ser:\n",
        "\n",
        "**Maior** do que Q3 em pelo menos 1,5 vezes a Distância Interquartílica (DIQ) ou\n",
        "\n",
        "Q3 + 1,5 * DIQ\n",
        "\n",
        "**Menor** que Q1 em pelo menos 1,5 vezes a Distância Interquartílica (DIQ).\n",
        "\n",
        "Q1 - 1,5 * DIQ\n",
        "\n",
        "Vejamos o Brasil como um exemplo:\n",
        "\n",
        "* **Q1 (25%)** = 428\n",
        "* **Q3 (75%)** = 1041\n",
        "* **DIQ = Q3 - Q1** = 613\n",
        "\n",
        "Usando a definição de outlier, qualquer valor que seja maior que Q3 em 1,5 vezes DIQ será sinalizado como outlier.\n",
        "\n",
        "Outlier => 1041 + (1,5 * 613)\n",
        "\n",
        "**Outlier => 1960**"
      ]
    },
    {
      "cell_type": "code",
      "metadata": {
        "colab": {
          "base_uri": "https://localhost:8080/",
          "height": 143
        },
        "id": "o6qICEuwE1QW",
        "outputId": "ef46a898-3fc0-47a4-f67b-8b5162365387"
      },
      "source": [
        "# Identificação de outliers maior do que Q3 em pelo menos 1,5 vezes DIQ\n",
        "df_brasil_argentina_mexico[df_brasil_argentina_mexico['Brazil'] >= 1960]"
      ],
      "execution_count": 41,
      "outputs": [
        {
          "output_type": "execute_result",
          "data": {
            "text/html": [
              "<div>\n",
              "<style scoped>\n",
              "    .dataframe tbody tr th:only-of-type {\n",
              "        vertical-align: middle;\n",
              "    }\n",
              "\n",
              "    .dataframe tbody tr th {\n",
              "        vertical-align: top;\n",
              "    }\n",
              "\n",
              "    .dataframe thead th {\n",
              "        text-align: right;\n",
              "    }\n",
              "</style>\n",
              "<table border=\"1\" class=\"dataframe\">\n",
              "  <thead>\n",
              "    <tr style=\"text-align: right;\">\n",
              "      <th>Pais</th>\n",
              "      <th>Brazil</th>\n",
              "      <th>Argentina</th>\n",
              "      <th>Mexico</th>\n",
              "    </tr>\n",
              "  </thead>\n",
              "  <tbody>\n",
              "    <tr>\n",
              "      <th>2008</th>\n",
              "      <td>2138</td>\n",
              "      <td>540</td>\n",
              "      <td>2856</td>\n",
              "    </tr>\n",
              "    <tr>\n",
              "      <th>2009</th>\n",
              "      <td>2509</td>\n",
              "      <td>467</td>\n",
              "      <td>3092</td>\n",
              "    </tr>\n",
              "    <tr>\n",
              "      <th>2010</th>\n",
              "      <td>2598</td>\n",
              "      <td>459</td>\n",
              "      <td>3865</td>\n",
              "    </tr>\n",
              "  </tbody>\n",
              "</table>\n",
              "</div>"
            ],
            "text/plain": [
              "Pais  Brazil  Argentina  Mexico\n",
              "2008    2138        540    2856\n",
              "2009    2509        467    3092\n",
              "2010    2598        459    3865"
            ]
          },
          "metadata": {},
          "execution_count": 41
        }
      ]
    },
    {
      "cell_type": "markdown",
      "metadata": {
        "id": "rwm5hUuPGRx_"
      },
      "source": [
        "<h3>Gráfico de dispersão (scatter plot)</h3>\n",
        "\n",
        "Um **gráfico de dispersão** é um método útil de comparar variáveis umas com as outras. Os gráficos **Scatter** parecem semelhantes aos **gráficos lineares** no sentido de que ambos mapeiam variáveis independentes e dependentes em um gráfico 2D. Embora os pontos de dados estejam conectados por uma linha em um gráfico de linha, eles não estão conectados em um gráfico de dispersão. Os dados em um gráfico de dispersão são considerados para expressar uma tendência. Com análises adicionais usando ferramentas como regressão, podemos calcular matematicamente essa relação e usá-la para prever tendências fora do conjunto de dados.\n",
        "\n",
        "Vamos utilizar um **gráfico de dispersão**, para visualizar a tendência da imigração total para o Canadá (todos os países combinados) para os anos de 1980 a 2013.\n"
      ]
    },
    {
      "cell_type": "markdown",
      "metadata": {
        "id": "ESvAiZKuH4ac"
      },
      "source": [
        "**Etapa 1**: obter o conjunto de dados. Como se espera usar a relação entre **anos** e e **total da população**, deve-se converter os **anos** para **int**."
      ]
    },
    {
      "cell_type": "code",
      "metadata": {
        "colab": {
          "base_uri": "https://localhost:8080/",
          "height": 206
        },
        "id": "r1_H7bVNIRXd",
        "outputId": "bdb3ab29-9820-4ec2-8361-5000ef1a10db"
      },
      "source": [
        "# Usar o método sum () para obter a população total por ano\n",
        "df_total = pd.DataFrame(df_canada[anos].sum(axis=0))\n",
        "\n",
        "# Alterar o tipo anos para int (útil para regressão mais tarde)\n",
        "df_total.index = map(int, df_total.index)\n",
        "\n",
        "# Reset o índice para colocá-lo de volta como uma coluna no dataframe df_total \n",
        "df_total.reset_index(inplace = True)\n",
        "\n",
        "# Renomear as colunas\n",
        "df_total.columns = ['anos', 'total']\n",
        "\n",
        "# Visualizar o dataframe final\n",
        "df_total.head()"
      ],
      "execution_count": 42,
      "outputs": [
        {
          "output_type": "execute_result",
          "data": {
            "text/html": [
              "<div>\n",
              "<style scoped>\n",
              "    .dataframe tbody tr th:only-of-type {\n",
              "        vertical-align: middle;\n",
              "    }\n",
              "\n",
              "    .dataframe tbody tr th {\n",
              "        vertical-align: top;\n",
              "    }\n",
              "\n",
              "    .dataframe thead th {\n",
              "        text-align: right;\n",
              "    }\n",
              "</style>\n",
              "<table border=\"1\" class=\"dataframe\">\n",
              "  <thead>\n",
              "    <tr style=\"text-align: right;\">\n",
              "      <th></th>\n",
              "      <th>anos</th>\n",
              "      <th>total</th>\n",
              "    </tr>\n",
              "  </thead>\n",
              "  <tbody>\n",
              "    <tr>\n",
              "      <th>0</th>\n",
              "      <td>1980</td>\n",
              "      <td>99137</td>\n",
              "    </tr>\n",
              "    <tr>\n",
              "      <th>1</th>\n",
              "      <td>1981</td>\n",
              "      <td>110563</td>\n",
              "    </tr>\n",
              "    <tr>\n",
              "      <th>2</th>\n",
              "      <td>1982</td>\n",
              "      <td>104271</td>\n",
              "    </tr>\n",
              "    <tr>\n",
              "      <th>3</th>\n",
              "      <td>1983</td>\n",
              "      <td>75550</td>\n",
              "    </tr>\n",
              "    <tr>\n",
              "      <th>4</th>\n",
              "      <td>1984</td>\n",
              "      <td>73417</td>\n",
              "    </tr>\n",
              "  </tbody>\n",
              "</table>\n",
              "</div>"
            ],
            "text/plain": [
              "   anos   total\n",
              "0  1980   99137\n",
              "1  1981  110563\n",
              "2  1982  104271\n",
              "3  1983   75550\n",
              "4  1984   73417"
            ]
          },
          "metadata": {},
          "execution_count": 42
        }
      ]
    },
    {
      "cell_type": "markdown",
      "metadata": {
        "id": "3dx-y3g3T1_E"
      },
      "source": [
        "**Etapa 2**: plotar os dados. No **Matplotlib**, pode-se criar um gráfico **scatter** passando **kind = 'scatter'** como argumento do gráfico. Também é necessário passar as palavras-chave **x** e **y** para especificar as colunas que vão nos eixos x e y."
      ]
    },
    {
      "cell_type": "code",
      "metadata": {
        "colab": {
          "base_uri": "https://localhost:8080/",
          "height": 404
        },
        "id": "HaH4eOe1UIEX",
        "outputId": "e8289386-d8ba-4c55-e75e-988462041ff1"
      },
      "source": [
        "# Gráfico de dispersão do total de imigrantes do Canadá\n",
        "df_total.plot(kind='scatter', x='anos', y='total', figsize=(10, 6), color='black')\n",
        "\n",
        "plt.title('Total de Imigrantes do Canadpa de 1980 a 2013')\n",
        "plt.xlabel('Anos')\n",
        "plt.ylabel('Números de Imigrantes')\n",
        "\n",
        "plt.show()"
      ],
      "execution_count": 43,
      "outputs": [
        {
          "output_type": "display_data",
          "data": {
            "image/png": "[encoded data removed]",
            "text/plain": [
              "<Figure size 720x432 with 1 Axes>"
            ]
          },
          "metadata": {
            "needs_background": "light"
          }
        }
      ]
    },
    {
      "cell_type": "markdown",
      "metadata": {
        "id": "fuzdiWryUk3I"
      },
      "source": [
        "Observe como o gráfico de dispersão não conecta os pontos de dados. Pode-se observar claramente uma tendência ascendente nos dados: com o passar dos anos, o número total de imigrantes aumenta. Também é possível analisar matematicamente essa tendência de crescimento usando uma linha de regressão."
      ]
    },
    {
      "cell_type": "markdown",
      "metadata": {
        "id": "gNGANHCtVFHt"
      },
      "source": [
        "**Etapa 3**: obter a equação da reta (regressão linear) de melhor ajuste. Será utilizado o método **polyfit ()** de ** Numpy ** passando o seguinte:\n",
        "\n",
        "- **x**: coordenadas x dos dados.\n",
        "- **y**: coordenadas y dos dados.\n",
        "- **deg**: grau de ajuste do polinômio: **1 = linear**, **2 = quadrátic**, por exemplo."
      ]
    },
    {
      "cell_type": "code",
      "metadata": {
        "colab": {
          "base_uri": "https://localhost:8080/"
        },
        "id": "BpLt62FqT07Q",
        "outputId": "f22d6733-66c2-44f6-bbfa-5f16ae276271"
      },
      "source": [
        "# Obter a equação da reta (regressão linear)\n",
        "x = df_total['anos']      \n",
        "y = df_total['total']     \n",
        "fit = np.polyfit(x, y, deg=1)\n",
        "\n",
        "fit"
      ],
      "execution_count": 44,
      "outputs": [
        {
          "output_type": "execute_result",
          "data": {
            "text/plain": [
              "array([ 5.56709228e+03, -1.09261952e+07])"
            ]
          },
          "metadata": {},
          "execution_count": 44
        }
      ]
    },
    {
      "cell_type": "markdown",
      "metadata": {
        "id": "TnTK9-_mVo6W"
      },
      "source": [
        "A saída é uma matriz com os coeficientes. Uma vez que está se traçando uma regressão linear y = a * x + b, a saída tem 2 elementos[5,56709228e+03, -1,09261952e+07]com a inclinação na posição 0 e interceptação na posição 1."
      ]
    },
    {
      "cell_type": "markdown",
      "metadata": {
        "id": "ae7sRUO9V_g7"
      },
      "source": [
        "**Etapa 4**: plotar a linha de regressão no gráfico de dispersão."
      ]
    },
    {
      "cell_type": "code",
      "metadata": {
        "colab": {
          "base_uri": "https://localhost:8080/",
          "height": 422
        },
        "id": "-7JzsPI1WZsF",
        "outputId": "b79d28c1-dea9-4675-a8fb-8b1a0c32aafa"
      },
      "source": [
        "df_total.plot(kind='scatter', x='anos', y='total', figsize=(10, 6), color='black')\n",
        "\n",
        "plt.title('Total de Imigrantes no Canadá de 1980 a 2013')\n",
        "plt.xlabel('Ano')\n",
        "plt.ylabel('Número de Imigrantes')\n",
        "\n",
        "plt.plot(x, fit[0] * x + fit[1], color='blue') \n",
        "plt.annotate('y={0:.0f} x + {1:.0f}'.format(fit[0], fit[1]), xy=(2000, 150000))\n",
        "\n",
        "plt.show()\n",
        "\n",
        "'Modelo para estimativa de novos imigrantes = {0:.0f} * Year + {1:.0f}'.format(fit[0], fit[1]) "
      ],
      "execution_count": 45,
      "outputs": [
        {
          "output_type": "display_data",
          "data": {
            "image/png": "[encoded data removed]",
            "text/plain": [
              "<Figure size 720x432 with 1 Axes>"
            ]
          },
          "metadata": {
            "needs_background": "light"
          }
        },
        {
          "output_type": "execute_result",
          "data": {
            "application/vnd.google.colaboratory.intrinsic+json": {
              "type": "string"
            },
            "text/plain": [
              "'Modelo para estimativa de novos imigrantes = 5567 * Year + -10926195'"
            ]
          },
          "metadata": {},
          "execution_count": 45
        }
      ]
    },
    {
      "cell_type": "markdown",
      "metadata": {
        "id": "45oh490lZDQ8"
      },
      "source": [
        "Usando a equação reta pode-se estimar o número de imigrantes em 2019:\n",
        "\n",
        "Modelo para estimativa do número de imigrantes = 5567 * Ano - 10926195\n",
        "\n",
        "Modelo para estimativa do número de imigrantes  = 5567 * 2019 - 10926195\n",
        "\n",
        "Número de imigrantes estimado = 313.578"
      ]
    },
    {
      "cell_type": "markdown",
      "metadata": {
        "id": "bq_nu6jQPFV1"
      },
      "source": [
        "**DICA**: para visualizar a paleta de cores clique no link abaixo. \n",
        "<h4><a href=\"https://matplotlib.org/stable/gallery/color/named_colors.html\">Paleta de cores</a></h4>\n",
        "\n",
        "Para obter a lista com os nomes dessas cores, disponíveis no Matplotlib, execute o código abaixo. "
      ]
    },
    {
      "cell_type": "code",
      "metadata": {
        "id": "KNNe9HycPW5-"
      },
      "source": [
        "for name, hex in matplotlib.colors.cnames.items():\n",
        "    print(name, hex)"
      ],
      "execution_count": null,
      "outputs": []
    },
    {
      "cell_type": "markdown",
      "metadata": {
        "id": "0YXb-2stan96"
      },
      "source": [
        "<h4>Autora:  <a href=\"https://www.linkedin.com/in/carlaolivei/\">Carla Oliveira</a></h4>\n",
        "<p> MSc, MBA, Analista de Sistema e Professora em Ciência da Computação e Análise e Desenvolvimento de Sistemas.</p>\n",
        "\n",
        "<hr>\n",
        "\n",
        "Este notebook e seu código-fonte foram implementados sob os termos da <a href=\"https://bigdatauniversity.com/mit-license/\">MIT License</a>.</p>"
      ]
    }
  ]
}